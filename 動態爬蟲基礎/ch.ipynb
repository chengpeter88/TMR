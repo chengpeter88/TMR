{
 "cells": [
  {
   "cell_type": "code",
   "execution_count": 2,
   "metadata": {},
   "outputs": [
    {
     "name": "stdout",
     "output_type": "stream",
     "text": [
      "\u001b[31mERROR: Could not find a version that satisfies the requirement selenuim (from versions: none)\u001b[0m\u001b[31m\n",
      "\u001b[0m\u001b[31mERROR: No matching distribution found for selenuim\u001b[0m\u001b[31m\n",
      "\u001b[0m"
     ]
    }
   ],
   "source": [
    "!pip3 install selenuim"
   ]
  },
  {
   "cell_type": "code",
   "execution_count": 4,
   "metadata": {},
   "outputs": [
    {
     "name": "stdout",
     "output_type": "stream",
     "text": [
      "Requirement already satisfied: selenium in /Users/heng/anaconda3/lib/python3.11/site-packages (4.18.1)\n",
      "Requirement already satisfied: urllib3[socks]<3,>=1.26 in /Users/heng/anaconda3/lib/python3.11/site-packages (from selenium) (1.26.18)\n",
      "Requirement already satisfied: trio~=0.17 in /Users/heng/anaconda3/lib/python3.11/site-packages (from selenium) (0.24.0)\n",
      "Requirement already satisfied: trio-websocket~=0.9 in /Users/heng/anaconda3/lib/python3.11/site-packages (from selenium) (0.11.1)\n",
      "Requirement already satisfied: certifi>=2021.10.8 in /Users/heng/anaconda3/lib/python3.11/site-packages (from selenium) (2023.11.17)\n",
      "Requirement already satisfied: typing_extensions>=4.9.0 in /Users/heng/anaconda3/lib/python3.11/site-packages (from selenium) (4.10.0)\n",
      "Requirement already satisfied: attrs>=20.1.0 in /Users/heng/anaconda3/lib/python3.11/site-packages (from trio~=0.17->selenium) (23.1.0)\n",
      "Requirement already satisfied: sortedcontainers in /Users/heng/anaconda3/lib/python3.11/site-packages (from trio~=0.17->selenium) (2.4.0)\n",
      "Requirement already satisfied: idna in /Users/heng/anaconda3/lib/python3.11/site-packages (from trio~=0.17->selenium) (3.4)\n",
      "Requirement already satisfied: outcome in /Users/heng/anaconda3/lib/python3.11/site-packages (from trio~=0.17->selenium) (1.3.0.post0)\n",
      "Requirement already satisfied: sniffio>=1.3.0 in /Users/heng/anaconda3/lib/python3.11/site-packages (from trio~=0.17->selenium) (1.3.1)\n",
      "Requirement already satisfied: wsproto>=0.14 in /Users/heng/anaconda3/lib/python3.11/site-packages (from trio-websocket~=0.9->selenium) (1.2.0)\n",
      "Requirement already satisfied: PySocks!=1.5.7,<2.0,>=1.5.6 in /Users/heng/anaconda3/lib/python3.11/site-packages (from urllib3[socks]<3,>=1.26->selenium) (1.7.1)\n",
      "Requirement already satisfied: h11<1,>=0.9.0 in /Users/heng/anaconda3/lib/python3.11/site-packages (from wsproto>=0.14->trio-websocket~=0.9->selenium) (0.14.0)\n"
     ]
    }
   ],
   "source": [
    "!pip3 install selenium"
   ]
  },
  {
   "cell_type": "code",
   "execution_count": 2,
   "metadata": {},
   "outputs": [],
   "source": [
    "from selenium import webdriver  \n",
    "from selenium.webdriver.common.keys import Keys \n",
    "import time \n",
    "import os\n",
    "from selenium.webdriver.common.by import By\n",
    "# from webdiver_manger.chrome import Options   "
   ]
  },
  {
   "cell_type": "code",
   "execution_count": 3,
   "metadata": {},
   "outputs": [
    {
     "ename": "AttributeError",
     "evalue": "'str' object has no attribute 'capabilities'",
     "output_type": "error",
     "traceback": [
      "\u001b[0;31m---------------------------------------------------------------------------\u001b[0m",
      "\u001b[0;31mAttributeError\u001b[0m                            Traceback (most recent call last)",
      "File \u001b[0;32m~/anaconda3/lib/python3.11/site-packages/selenium/webdriver/common/driver_finder.py:38\u001b[0m, in \u001b[0;36mDriverFinder.get_path\u001b[0;34m(service, options)\u001b[0m\n\u001b[1;32m     37\u001b[0m \u001b[38;5;28;01mtry\u001b[39;00m:\n\u001b[0;32m---> 38\u001b[0m     path \u001b[38;5;241m=\u001b[39m SeleniumManager()\u001b[38;5;241m.\u001b[39mdriver_location(options) \u001b[38;5;28;01mif\u001b[39;00m path \u001b[38;5;129;01mis\u001b[39;00m \u001b[38;5;28;01mNone\u001b[39;00m \u001b[38;5;28;01melse\u001b[39;00m path\n\u001b[1;32m     39\u001b[0m \u001b[38;5;28;01mexcept\u001b[39;00m \u001b[38;5;167;01mException\u001b[39;00m \u001b[38;5;28;01mas\u001b[39;00m err:\n",
      "File \u001b[0;32m~/anaconda3/lib/python3.11/site-packages/selenium/webdriver/common/selenium_manager.py:87\u001b[0m, in \u001b[0;36mSeleniumManager.driver_location\u001b[0;34m(self, options)\u001b[0m\n\u001b[1;32m     80\u001b[0m \u001b[38;5;250m\u001b[39m\u001b[38;5;124;03m\"\"\"Determines the path of the correct driver.\u001b[39;00m\n\u001b[1;32m     81\u001b[0m \n\u001b[1;32m     82\u001b[0m \u001b[38;5;124;03m:Args:\u001b[39;00m\n\u001b[1;32m     83\u001b[0m \u001b[38;5;124;03m - browser: which browser to get the driver path for.\u001b[39;00m\n\u001b[1;32m     84\u001b[0m \u001b[38;5;124;03m:Returns: The driver path to use\u001b[39;00m\n\u001b[1;32m     85\u001b[0m \u001b[38;5;124;03m\"\"\"\u001b[39;00m\n\u001b[0;32m---> 87\u001b[0m browser \u001b[38;5;241m=\u001b[39m options\u001b[38;5;241m.\u001b[39mcapabilities[\u001b[38;5;124m\"\u001b[39m\u001b[38;5;124mbrowserName\u001b[39m\u001b[38;5;124m\"\u001b[39m]\n\u001b[1;32m     89\u001b[0m args \u001b[38;5;241m=\u001b[39m [\u001b[38;5;28mstr\u001b[39m(\u001b[38;5;28mself\u001b[39m\u001b[38;5;241m.\u001b[39mget_binary()), \u001b[38;5;124m\"\u001b[39m\u001b[38;5;124m--browser\u001b[39m\u001b[38;5;124m\"\u001b[39m, browser]\n",
      "\u001b[0;31mAttributeError\u001b[0m: 'str' object has no attribute 'capabilities'",
      "\nDuring handling of the above exception, another exception occurred:\n",
      "\u001b[0;31mAttributeError\u001b[0m                            Traceback (most recent call last)",
      "Cell \u001b[0;32mIn[3], line 2\u001b[0m\n\u001b[1;32m      1\u001b[0m chromedirver_path \u001b[38;5;241m=\u001b[39m \u001b[38;5;124m'\u001b[39m\u001b[38;5;124m/usr/local/bin/chromedriver\u001b[39m\u001b[38;5;124m'\u001b[39m   \n\u001b[0;32m----> 2\u001b[0m dirver \u001b[38;5;241m=\u001b[39m webdriver\u001b[38;5;241m.\u001b[39mChrome(chromedirver_path)\n\u001b[1;32m      3\u001b[0m dirver\u001b[38;5;241m.\u001b[39mget(\u001b[38;5;124m'\u001b[39m\u001b[38;5;124mhttps://shopping.pchome.com.tw/\u001b[39m\u001b[38;5;124m'\u001b[39m)\n\u001b[1;32m      4\u001b[0m dirver\u001b[38;5;241m.\u001b[39mfind_element_by_id(\u001b[38;5;124m'\u001b[39m\u001b[38;5;124mkeyword\u001b[39m\u001b[38;5;124m'\u001b[39m)\u001b[38;5;241m.\u001b[39msend_keys(\u001b[38;5;124m'\u001b[39m\u001b[38;5;124miphone\u001b[39m\u001b[38;5;124m'\u001b[39m)\n",
      "File \u001b[0;32m~/anaconda3/lib/python3.11/site-packages/selenium/webdriver/chrome/webdriver.py:45\u001b[0m, in \u001b[0;36mWebDriver.__init__\u001b[0;34m(self, options, service, keep_alive)\u001b[0m\n\u001b[1;32m     42\u001b[0m service \u001b[38;5;241m=\u001b[39m service \u001b[38;5;28;01mif\u001b[39;00m service \u001b[38;5;28;01melse\u001b[39;00m Service()\n\u001b[1;32m     43\u001b[0m options \u001b[38;5;241m=\u001b[39m options \u001b[38;5;28;01mif\u001b[39;00m options \u001b[38;5;28;01melse\u001b[39;00m Options()\n\u001b[0;32m---> 45\u001b[0m \u001b[38;5;28msuper\u001b[39m()\u001b[38;5;241m.\u001b[39m\u001b[38;5;21m__init__\u001b[39m(\n\u001b[1;32m     46\u001b[0m     browser_name\u001b[38;5;241m=\u001b[39mDesiredCapabilities\u001b[38;5;241m.\u001b[39mCHROME[\u001b[38;5;124m\"\u001b[39m\u001b[38;5;124mbrowserName\u001b[39m\u001b[38;5;124m\"\u001b[39m],\n\u001b[1;32m     47\u001b[0m     vendor_prefix\u001b[38;5;241m=\u001b[39m\u001b[38;5;124m\"\u001b[39m\u001b[38;5;124mgoog\u001b[39m\u001b[38;5;124m\"\u001b[39m,\n\u001b[1;32m     48\u001b[0m     options\u001b[38;5;241m=\u001b[39moptions,\n\u001b[1;32m     49\u001b[0m     service\u001b[38;5;241m=\u001b[39mservice,\n\u001b[1;32m     50\u001b[0m     keep_alive\u001b[38;5;241m=\u001b[39mkeep_alive,\n\u001b[1;32m     51\u001b[0m )\n",
      "File \u001b[0;32m~/anaconda3/lib/python3.11/site-packages/selenium/webdriver/chromium/webdriver.py:49\u001b[0m, in \u001b[0;36mChromiumDriver.__init__\u001b[0;34m(self, browser_name, vendor_prefix, options, service, keep_alive)\u001b[0m\n\u001b[1;32m     37\u001b[0m \u001b[38;5;250m\u001b[39m\u001b[38;5;124;03m\"\"\"Creates a new WebDriver instance of the ChromiumDriver. Starts the\u001b[39;00m\n\u001b[1;32m     38\u001b[0m \u001b[38;5;124;03mservice and then creates new WebDriver instance of ChromiumDriver.\u001b[39;00m\n\u001b[1;32m     39\u001b[0m \n\u001b[0;32m   (...)\u001b[0m\n\u001b[1;32m     45\u001b[0m \u001b[38;5;124;03m - keep_alive - Whether to configure ChromiumRemoteConnection to use HTTP keep-alive.\u001b[39;00m\n\u001b[1;32m     46\u001b[0m \u001b[38;5;124;03m\"\"\"\u001b[39;00m\n\u001b[1;32m     47\u001b[0m \u001b[38;5;28mself\u001b[39m\u001b[38;5;241m.\u001b[39mservice \u001b[38;5;241m=\u001b[39m service\n\u001b[0;32m---> 49\u001b[0m \u001b[38;5;28mself\u001b[39m\u001b[38;5;241m.\u001b[39mservice\u001b[38;5;241m.\u001b[39mpath \u001b[38;5;241m=\u001b[39m DriverFinder\u001b[38;5;241m.\u001b[39mget_path(\u001b[38;5;28mself\u001b[39m\u001b[38;5;241m.\u001b[39mservice, options)\n\u001b[1;32m     50\u001b[0m \u001b[38;5;28mself\u001b[39m\u001b[38;5;241m.\u001b[39mservice\u001b[38;5;241m.\u001b[39mstart()\n\u001b[1;32m     52\u001b[0m executor \u001b[38;5;241m=\u001b[39m ChromiumRemoteConnection(\n\u001b[1;32m     53\u001b[0m     remote_server_addr\u001b[38;5;241m=\u001b[39m\u001b[38;5;28mself\u001b[39m\u001b[38;5;241m.\u001b[39mservice\u001b[38;5;241m.\u001b[39mservice_url,\n\u001b[1;32m     54\u001b[0m     browser_name\u001b[38;5;241m=\u001b[39mbrowser_name,\n\u001b[0;32m   (...)\u001b[0m\n\u001b[1;32m     57\u001b[0m     ignore_proxy\u001b[38;5;241m=\u001b[39moptions\u001b[38;5;241m.\u001b[39m_ignore_local_proxy,\n\u001b[1;32m     58\u001b[0m )\n",
      "File \u001b[0;32m~/anaconda3/lib/python3.11/site-packages/selenium/webdriver/common/driver_finder.py:40\u001b[0m, in \u001b[0;36mDriverFinder.get_path\u001b[0;34m(service, options)\u001b[0m\n\u001b[1;32m     38\u001b[0m     path \u001b[38;5;241m=\u001b[39m SeleniumManager()\u001b[38;5;241m.\u001b[39mdriver_location(options) \u001b[38;5;28;01mif\u001b[39;00m path \u001b[38;5;129;01mis\u001b[39;00m \u001b[38;5;28;01mNone\u001b[39;00m \u001b[38;5;28;01melse\u001b[39;00m path\n\u001b[1;32m     39\u001b[0m \u001b[38;5;28;01mexcept\u001b[39;00m \u001b[38;5;167;01mException\u001b[39;00m \u001b[38;5;28;01mas\u001b[39;00m err:\n\u001b[0;32m---> 40\u001b[0m     msg \u001b[38;5;241m=\u001b[39m \u001b[38;5;124mf\u001b[39m\u001b[38;5;124m\"\u001b[39m\u001b[38;5;124mUnable to obtain driver for \u001b[39m\u001b[38;5;132;01m{\u001b[39;00moptions\u001b[38;5;241m.\u001b[39mcapabilities[\u001b[38;5;124m'\u001b[39m\u001b[38;5;124mbrowserName\u001b[39m\u001b[38;5;124m'\u001b[39m]\u001b[38;5;132;01m}\u001b[39;00m\u001b[38;5;124m using Selenium Manager.\u001b[39m\u001b[38;5;124m\"\u001b[39m\n\u001b[1;32m     41\u001b[0m     \u001b[38;5;28;01mraise\u001b[39;00m NoSuchDriverException(msg) \u001b[38;5;28;01mfrom\u001b[39;00m \u001b[38;5;21;01merr\u001b[39;00m\n\u001b[1;32m     43\u001b[0m \u001b[38;5;28;01mif\u001b[39;00m path \u001b[38;5;129;01mis\u001b[39;00m \u001b[38;5;28;01mNone\u001b[39;00m \u001b[38;5;129;01mor\u001b[39;00m \u001b[38;5;129;01mnot\u001b[39;00m Path(path)\u001b[38;5;241m.\u001b[39mis_file():\n",
      "\u001b[0;31mAttributeError\u001b[0m: 'str' object has no attribute 'capabilities'"
     ]
    }
   ],
   "source": [
    "chromedirver_path = '/usr/local/bin/chromedriver'   \n",
    "dirver = webdriver.Chrome(chromedirver_path)\n",
    "dirver.get('https://shopping.pchome.com.tw/')\n",
    "dirver.find_element_by_id('keyword').send_keys('iphone')\n",
    "dirver.find_element_by_link_text('24小時購物').click()"
   ]
  },
  {
   "cell_type": "code",
   "execution_count": 1,
   "metadata": {},
   "outputs": [],
   "source": [
    "# %%\n",
    "from selenium import webdriver\n",
    "from selenium.webdriver.chrome.service import Service as ChromeService\n",
    "from wedriver_manager.chrome import ChromeDriverManager\n",
    "from selenium.webdriver.common.by import By\n",
    "import time\n",
    "\n"
   ]
  },
  {
   "cell_type": "code",
   "execution_count": 5,
   "metadata": {},
   "outputs": [
    {
     "name": "stdout",
     "output_type": "stream",
     "text": [
      "Collecting webdriver_manager\n",
      "  Obtaining dependency information for webdriver_manager from https://files.pythonhosted.org/packages/b1/51/b5c11cf739ac4eecde611794a0ec9df420d0239d51e73bc19eb44f02b48b/webdriver_manager-4.0.1-py2.py3-none-any.whl.metadata\n",
      "  Downloading webdriver_manager-4.0.1-py2.py3-none-any.whl.metadata (12 kB)\n",
      "Requirement already satisfied: requests in /Users/heng/anaconda3/lib/python3.11/site-packages (from webdriver_manager) (2.31.0)\n",
      "Requirement already satisfied: python-dotenv in /Users/heng/anaconda3/lib/python3.11/site-packages (from webdriver_manager) (0.21.0)\n",
      "Requirement already satisfied: packaging in /Users/heng/anaconda3/lib/python3.11/site-packages (from webdriver_manager) (23.1)\n",
      "Requirement already satisfied: charset-normalizer<4,>=2 in /Users/heng/anaconda3/lib/python3.11/site-packages (from requests->webdriver_manager) (2.0.4)\n",
      "Requirement already satisfied: idna<4,>=2.5 in /Users/heng/anaconda3/lib/python3.11/site-packages (from requests->webdriver_manager) (3.4)\n",
      "Requirement already satisfied: urllib3<3,>=1.21.1 in /Users/heng/anaconda3/lib/python3.11/site-packages (from requests->webdriver_manager) (1.26.18)\n",
      "Requirement already satisfied: certifi>=2017.4.17 in /Users/heng/anaconda3/lib/python3.11/site-packages (from requests->webdriver_manager) (2023.11.17)\n",
      "Downloading webdriver_manager-4.0.1-py2.py3-none-any.whl (27 kB)\n",
      "Installing collected packages: webdriver_manager\n",
      "Successfully installed webdriver_manager-4.0.1\n"
     ]
    }
   ],
   "source": [
    "# !pip install webdriver_manager"
   ]
  },
  {
   "cell_type": "code",
   "execution_count": 2,
   "metadata": {},
   "outputs": [],
   "source": [
    "\n",
    "# %%\n",
    "# ------ 設定要前往的網址 ------\n",
    "url = 'https://www.books.com.tw/'   \n",
    "\n",
    "# %%\n"
   ]
  },
  {
   "cell_type": "code",
   "execution_count": 4,
   "metadata": {},
   "outputs": [
    {
     "ename": "SessionNotCreatedException",
     "evalue": "Message: session not created: This version of ChromeDriver only supports Chrome version 112\nCurrent browser version is 122.0.6261.112 with binary path /Applications/Google Chrome.app/Contents/MacOS/Google Chrome\nStacktrace:\n0   chromedriver                        0x0000000100931670 chromedriver + 4298352\n1   chromedriver                        0x0000000100929bbc chromedriver + 4266940\n2   chromedriver                        0x000000010055c758 chromedriver + 280408\n3   chromedriver                        0x0000000100587338 chromedriver + 455480\n4   chromedriver                        0x0000000100583304 chromedriver + 439044\n5   chromedriver                        0x0000000100580308 chromedriver + 426760\n6   chromedriver                        0x00000001005c0994 chromedriver + 690580\n7   chromedriver                        0x00000001005c0114 chromedriver + 688404\n8   chromedriver                        0x000000010058a2d0 chromedriver + 467664\n9   chromedriver                        0x000000010058b354 chromedriver + 471892\n10  chromedriver                        0x00000001008f16c4 chromedriver + 4036292\n11  chromedriver                        0x00000001008f5c64 chromedriver + 4054116\n12  chromedriver                        0x00000001008fc2d8 chromedriver + 4080344\n13  chromedriver                        0x00000001008f6970 chromedriver + 4057456\n14  chromedriver                        0x00000001008cd8dc chromedriver + 3889372\n15  chromedriver                        0x000000010091525c chromedriver + 4182620\n16  chromedriver                        0x00000001009153b4 chromedriver + 4182964\n17  chromedriver                        0x00000001009240f4 chromedriver + 4243700\n18  libsystem_pthread.dylib             0x000000019312b878 _pthread_start + 320\n19  libsystem_pthread.dylib             0x00000001931265e0 thread_start + 8\n",
     "output_type": "error",
     "traceback": [
      "\u001b[0;31m---------------------------------------------------------------------------\u001b[0m",
      "\u001b[0;31mSessionNotCreatedException\u001b[0m                Traceback (most recent call last)",
      "Cell \u001b[0;32mIn[4], line 2\u001b[0m\n\u001b[1;32m      1\u001b[0m \u001b[38;5;66;03m# ------ 開啟 Chrome browser ------\u001b[39;00m\n\u001b[0;32m----> 2\u001b[0m browser \u001b[38;5;241m=\u001b[39m webdriver\u001b[38;5;241m.\u001b[39mChrome(service\u001b[38;5;241m=\u001b[39mChromeService())\n",
      "File \u001b[0;32m~/anaconda3/lib/python3.11/site-packages/selenium/webdriver/chrome/webdriver.py:70\u001b[0m, in \u001b[0;36mWebDriver.__init__\u001b[0;34m(self, executable_path, port, options, service_args, desired_capabilities, service_log_path, chrome_options, service, keep_alive)\u001b[0m\n\u001b[1;32m     67\u001b[0m \u001b[38;5;28;01mif\u001b[39;00m \u001b[38;5;129;01mnot\u001b[39;00m service:\n\u001b[1;32m     68\u001b[0m     service \u001b[38;5;241m=\u001b[39m Service(executable_path, port, service_args, service_log_path)\n\u001b[0;32m---> 70\u001b[0m \u001b[38;5;28msuper\u001b[39m(WebDriver, \u001b[38;5;28mself\u001b[39m)\u001b[38;5;241m.\u001b[39m\u001b[38;5;21m__init__\u001b[39m(DesiredCapabilities\u001b[38;5;241m.\u001b[39mCHROME[\u001b[38;5;124m'\u001b[39m\u001b[38;5;124mbrowserName\u001b[39m\u001b[38;5;124m'\u001b[39m], \u001b[38;5;124m\"\u001b[39m\u001b[38;5;124mgoog\u001b[39m\u001b[38;5;124m\"\u001b[39m,\n\u001b[1;32m     71\u001b[0m                                 port, options,\n\u001b[1;32m     72\u001b[0m                                 service_args, desired_capabilities,\n\u001b[1;32m     73\u001b[0m                                 service_log_path, service, keep_alive)\n",
      "File \u001b[0;32m~/anaconda3/lib/python3.11/site-packages/selenium/webdriver/chromium/webdriver.py:92\u001b[0m, in \u001b[0;36mChromiumDriver.__init__\u001b[0;34m(self, browser_name, vendor_prefix, port, options, service_args, desired_capabilities, service_log_path, service, keep_alive)\u001b[0m\n\u001b[1;32m     89\u001b[0m \u001b[38;5;28mself\u001b[39m\u001b[38;5;241m.\u001b[39mservice\u001b[38;5;241m.\u001b[39mstart()\n\u001b[1;32m     91\u001b[0m \u001b[38;5;28;01mtry\u001b[39;00m:\n\u001b[0;32m---> 92\u001b[0m     RemoteWebDriver\u001b[38;5;241m.\u001b[39m\u001b[38;5;21m__init__\u001b[39m(\n\u001b[1;32m     93\u001b[0m         \u001b[38;5;28mself\u001b[39m,\n\u001b[1;32m     94\u001b[0m         command_executor\u001b[38;5;241m=\u001b[39mChromiumRemoteConnection(\n\u001b[1;32m     95\u001b[0m             remote_server_addr\u001b[38;5;241m=\u001b[39m\u001b[38;5;28mself\u001b[39m\u001b[38;5;241m.\u001b[39mservice\u001b[38;5;241m.\u001b[39mservice_url,\n\u001b[1;32m     96\u001b[0m             browser_name\u001b[38;5;241m=\u001b[39mbrowser_name, vendor_prefix\u001b[38;5;241m=\u001b[39mvendor_prefix,\n\u001b[1;32m     97\u001b[0m             keep_alive\u001b[38;5;241m=\u001b[39mkeep_alive, ignore_proxy\u001b[38;5;241m=\u001b[39m_ignore_proxy),\n\u001b[1;32m     98\u001b[0m         options\u001b[38;5;241m=\u001b[39moptions)\n\u001b[1;32m     99\u001b[0m \u001b[38;5;28;01mexcept\u001b[39;00m \u001b[38;5;167;01mException\u001b[39;00m:\n\u001b[1;32m    100\u001b[0m     \u001b[38;5;28mself\u001b[39m\u001b[38;5;241m.\u001b[39mquit()\n",
      "File \u001b[0;32m~/anaconda3/lib/python3.11/site-packages/selenium/webdriver/remote/webdriver.py:275\u001b[0m, in \u001b[0;36mWebDriver.__init__\u001b[0;34m(self, command_executor, desired_capabilities, browser_profile, proxy, keep_alive, file_detector, options)\u001b[0m\n\u001b[1;32m    273\u001b[0m \u001b[38;5;28mself\u001b[39m\u001b[38;5;241m.\u001b[39m_authenticator_id \u001b[38;5;241m=\u001b[39m \u001b[38;5;28;01mNone\u001b[39;00m\n\u001b[1;32m    274\u001b[0m \u001b[38;5;28mself\u001b[39m\u001b[38;5;241m.\u001b[39mstart_client()\n\u001b[0;32m--> 275\u001b[0m \u001b[38;5;28mself\u001b[39m\u001b[38;5;241m.\u001b[39mstart_session(capabilities, browser_profile)\n",
      "File \u001b[0;32m~/anaconda3/lib/python3.11/site-packages/selenium/webdriver/remote/webdriver.py:365\u001b[0m, in \u001b[0;36mWebDriver.start_session\u001b[0;34m(self, capabilities, browser_profile)\u001b[0m\n\u001b[1;32m    363\u001b[0m w3c_caps \u001b[38;5;241m=\u001b[39m _make_w3c_caps(capabilities)\n\u001b[1;32m    364\u001b[0m parameters \u001b[38;5;241m=\u001b[39m {\u001b[38;5;124m\"\u001b[39m\u001b[38;5;124mcapabilities\u001b[39m\u001b[38;5;124m\"\u001b[39m: w3c_caps}\n\u001b[0;32m--> 365\u001b[0m response \u001b[38;5;241m=\u001b[39m \u001b[38;5;28mself\u001b[39m\u001b[38;5;241m.\u001b[39mexecute(Command\u001b[38;5;241m.\u001b[39mNEW_SESSION, parameters)\n\u001b[1;32m    366\u001b[0m \u001b[38;5;28;01mif\u001b[39;00m \u001b[38;5;124m'\u001b[39m\u001b[38;5;124msessionId\u001b[39m\u001b[38;5;124m'\u001b[39m \u001b[38;5;129;01mnot\u001b[39;00m \u001b[38;5;129;01min\u001b[39;00m response:\n\u001b[1;32m    367\u001b[0m     response \u001b[38;5;241m=\u001b[39m response[\u001b[38;5;124m'\u001b[39m\u001b[38;5;124mvalue\u001b[39m\u001b[38;5;124m'\u001b[39m]\n",
      "File \u001b[0;32m~/anaconda3/lib/python3.11/site-packages/selenium/webdriver/remote/webdriver.py:430\u001b[0m, in \u001b[0;36mWebDriver.execute\u001b[0;34m(self, driver_command, params)\u001b[0m\n\u001b[1;32m    428\u001b[0m response \u001b[38;5;241m=\u001b[39m \u001b[38;5;28mself\u001b[39m\u001b[38;5;241m.\u001b[39mcommand_executor\u001b[38;5;241m.\u001b[39mexecute(driver_command, params)\n\u001b[1;32m    429\u001b[0m \u001b[38;5;28;01mif\u001b[39;00m response:\n\u001b[0;32m--> 430\u001b[0m     \u001b[38;5;28mself\u001b[39m\u001b[38;5;241m.\u001b[39merror_handler\u001b[38;5;241m.\u001b[39mcheck_response(response)\n\u001b[1;32m    431\u001b[0m     response[\u001b[38;5;124m'\u001b[39m\u001b[38;5;124mvalue\u001b[39m\u001b[38;5;124m'\u001b[39m] \u001b[38;5;241m=\u001b[39m \u001b[38;5;28mself\u001b[39m\u001b[38;5;241m.\u001b[39m_unwrap_value(\n\u001b[1;32m    432\u001b[0m         response\u001b[38;5;241m.\u001b[39mget(\u001b[38;5;124m'\u001b[39m\u001b[38;5;124mvalue\u001b[39m\u001b[38;5;124m'\u001b[39m, \u001b[38;5;28;01mNone\u001b[39;00m))\n\u001b[1;32m    433\u001b[0m     \u001b[38;5;28;01mreturn\u001b[39;00m response\n",
      "File \u001b[0;32m~/anaconda3/lib/python3.11/site-packages/selenium/webdriver/remote/errorhandler.py:247\u001b[0m, in \u001b[0;36mErrorHandler.check_response\u001b[0;34m(self, response)\u001b[0m\n\u001b[1;32m    245\u001b[0m         alert_text \u001b[38;5;241m=\u001b[39m value[\u001b[38;5;124m'\u001b[39m\u001b[38;5;124malert\u001b[39m\u001b[38;5;124m'\u001b[39m]\u001b[38;5;241m.\u001b[39mget(\u001b[38;5;124m'\u001b[39m\u001b[38;5;124mtext\u001b[39m\u001b[38;5;124m'\u001b[39m)\n\u001b[1;32m    246\u001b[0m     \u001b[38;5;28;01mraise\u001b[39;00m exception_class(message, screen, stacktrace, alert_text)  \u001b[38;5;66;03m# type: ignore[call-arg]  # mypy is not smart enough here\u001b[39;00m\n\u001b[0;32m--> 247\u001b[0m \u001b[38;5;28;01mraise\u001b[39;00m exception_class(message, screen, stacktrace)\n",
      "\u001b[0;31mSessionNotCreatedException\u001b[0m: Message: session not created: This version of ChromeDriver only supports Chrome version 112\nCurrent browser version is 122.0.6261.112 with binary path /Applications/Google Chrome.app/Contents/MacOS/Google Chrome\nStacktrace:\n0   chromedriver                        0x0000000100931670 chromedriver + 4298352\n1   chromedriver                        0x0000000100929bbc chromedriver + 4266940\n2   chromedriver                        0x000000010055c758 chromedriver + 280408\n3   chromedriver                        0x0000000100587338 chromedriver + 455480\n4   chromedriver                        0x0000000100583304 chromedriver + 439044\n5   chromedriver                        0x0000000100580308 chromedriver + 426760\n6   chromedriver                        0x00000001005c0994 chromedriver + 690580\n7   chromedriver                        0x00000001005c0114 chromedriver + 688404\n8   chromedriver                        0x000000010058a2d0 chromedriver + 467664\n9   chromedriver                        0x000000010058b354 chromedriver + 471892\n10  chromedriver                        0x00000001008f16c4 chromedriver + 4036292\n11  chromedriver                        0x00000001008f5c64 chromedriver + 4054116\n12  chromedriver                        0x00000001008fc2d8 chromedriver + 4080344\n13  chromedriver                        0x00000001008f6970 chromedriver + 4057456\n14  chromedriver                        0x00000001008cd8dc chromedriver + 3889372\n15  chromedriver                        0x000000010091525c chromedriver + 4182620\n16  chromedriver                        0x00000001009153b4 chromedriver + 4182964\n17  chromedriver                        0x00000001009240f4 chromedriver + 4243700\n18  libsystem_pthread.dylib             0x000000019312b878 _pthread_start + 320\n19  libsystem_pthread.dylib             0x00000001931265e0 thread_start + 8\n"
     ]
    }
   ],
   "source": [
    "\n",
    "\n",
    "# ------ 開啟 Chrome browser ------\n",
    "browser = webdriver.Chrome(service=ChromeService())\n",
    "\n",
    "# %%\n"
   ]
  },
  {
   "cell_type": "code",
   "execution_count": null,
   "metadata": {},
   "outputs": [],
   "source": [
    "# ------ 前往該網址------\n",
    "browser.get(url)    \n",
    "\n",
    "# %%\n",
    "# ------ 問題：去除廣告 close_top_banner------\n",
    "browser.find_element(By.ID,\"close_top_banner\").click()\n",
    "\n",
    "\n",
    "# %%\n",
    "# ------ 查詢的關鍵字 ------\n",
    "keyword = '行銷資料科學'\n",
    "\n",
    "\n",
    "# %%\n",
    "# 問題：找到可以輸入search-bar的xpath，並send_keys\n",
    "browser.find_element(By.XPATH,'//*[@id=\"key\"]').send_keys(keyword)\n",
    "\n",
    "\n",
    "# %%\n",
    "# ------ 點擊搜尋 ------\n",
    "# 問題：找到可以點擊搜尋的xpath \n",
    "browser.find_element(By.XPATH,'//*[@id=\"search\"]/div/button').click()\n",
    "\n",
    "\n",
    "# %%\n",
    "# ------ 執行 \"滑鼠滾動的\" JavaScript指令 ------\n",
    "# 向下\n",
    "js = 'window.scrollTo(0, document.body.scrollHeight);'\n",
    "browser.execute_script(js)\n",
    "\n",
    "# 向上\n",
    "js = 'window.scrollTo(0, 10);'\n",
    "browser.execute_script(js)\n",
    "\n",
    "browser.close()\n",
    "\n"
   ]
  },
  {
   "cell_type": "markdown",
   "metadata": {},
   "source": [
    "### video 3-3"
   ]
  },
  {
   "cell_type": "code",
   "execution_count": 2,
   "metadata": {},
   "outputs": [],
   "source": [
    "from selenium import webdriver\n",
    "from webdriver_manager.chrome import ChromeDriverManager\n",
    "from selenium.webdriver.common.by import By \n"
   ]
  },
  {
   "cell_type": "code",
   "execution_count": 35,
   "metadata": {},
   "outputs": [
    {
     "name": "stderr",
     "output_type": "stream",
     "text": [
      "/var/folders/4p/_w7sb0h97x989ymb8f68ts_h0000gn/T/ipykernel_3148/590882525.py:1: DeprecationWarning: executable_path has been deprecated, please pass in a Service object\n",
      "  driver = webdriver.Chrome(ChromeDriverManager().install())\n"
     ]
    }
   ],
   "source": [
    "driver = webdriver.Chrome(ChromeDriverManager().install())\n",
    "url='https://www.google.com.tw'\n",
    "driver.get(url)"
   ]
  },
  {
   "cell_type": "code",
   "execution_count": 28,
   "metadata": {},
   "outputs": [
    {
     "name": "stderr",
     "output_type": "stream",
     "text": [
      "/var/folders/4p/_w7sb0h97x989ymb8f68ts_h0000gn/T/ipykernel_2296/2655905678.py:1: DeprecationWarning: executable_path has been deprecated, please pass in a Service object\n",
      "  driver = webdriver.Chrome(ChromeDriverManager().install())\n",
      "/var/folders/4p/_w7sb0h97x989ymb8f68ts_h0000gn/T/ipykernel_2296/2655905678.py:4: DeprecationWarning: find_element_by_class_name is deprecated. Please use find_element(by=By.CLASS_NAME, value=name) instead\n",
      "  element = driver.find_element_by_class_name('gLFyf')\n",
      "/var/folders/4p/_w7sb0h97x989ymb8f68ts_h0000gn/T/ipykernel_2296/2655905678.py:6: DeprecationWarning: find_element_by_class_name is deprecated. Please use find_element(by=By.CLASS_NAME, value=name) instead\n",
      "  driver.find_element_by_class_name('gNO89b').click()\n"
     ]
    },
    {
     "ename": "ElementNotInteractableException",
     "evalue": "Message: element not interactable\n  (Session info: chrome=122.0.6261.112)\nStacktrace:\n0   chromedriver                        0x0000000102ce8508 chromedriver + 3966216\n1   chromedriver                        0x0000000102ce0a94 chromedriver + 3934868\n2   chromedriver                        0x0000000102963bf4 chromedriver + 277492\n3   chromedriver                        0x00000001029a74dc chromedriver + 554204\n4   chromedriver                        0x000000010299ce84 chromedriver + 511620\n5   chromedriver                        0x000000010299c8a8 chromedriver + 510120\n6   chromedriver                        0x00000001029debf0 chromedriver + 781296\n7   chromedriver                        0x000000010299afb0 chromedriver + 503728\n8   chromedriver                        0x000000010299ba28 chromedriver + 506408\n9   chromedriver                        0x0000000102cad6f0 chromedriver + 3725040\n10  chromedriver                        0x0000000102cb1be4 chromedriver + 3742692\n11  chromedriver                        0x0000000102c961d8 chromedriver + 3629528\n12  chromedriver                        0x0000000102cb26e0 chromedriver + 3745504\n13  chromedriver                        0x0000000102c89550 chromedriver + 3577168\n14  chromedriver                        0x0000000102cd0f40 chromedriver + 3870528\n15  chromedriver                        0x0000000102cd10e4 chromedriver + 3870948\n16  chromedriver                        0x0000000102ce0704 chromedriver + 3933956\n17  libsystem_pthread.dylib             0x00000001810e7878 _pthread_start + 320\n18  libsystem_pthread.dylib             0x00000001810e25e0 thread_start + 8\n",
     "output_type": "error",
     "traceback": [
      "\u001b[0;31m---------------------------------------------------------------------------\u001b[0m",
      "\u001b[0;31mElementNotInteractableException\u001b[0m           Traceback (most recent call last)",
      "Cell \u001b[0;32mIn[28], line 6\u001b[0m\n\u001b[1;32m      4\u001b[0m element \u001b[38;5;241m=\u001b[39m driver\u001b[38;5;241m.\u001b[39mfind_element_by_class_name(\u001b[38;5;124m'\u001b[39m\u001b[38;5;124mgLFyf\u001b[39m\u001b[38;5;124m'\u001b[39m)\n\u001b[1;32m      5\u001b[0m element\u001b[38;5;241m.\u001b[39msend_keys(\u001b[38;5;124m'\u001b[39m\u001b[38;5;124mpython\u001b[39m\u001b[38;5;124m'\u001b[39m)\n\u001b[0;32m----> 6\u001b[0m driver\u001b[38;5;241m.\u001b[39mfind_element_by_class_name(\u001b[38;5;124m'\u001b[39m\u001b[38;5;124mgNO89b\u001b[39m\u001b[38;5;124m'\u001b[39m)\u001b[38;5;241m.\u001b[39mclick()\n",
      "File \u001b[0;32m~/anaconda3/lib/python3.11/site-packages/selenium/webdriver/remote/webelement.py:81\u001b[0m, in \u001b[0;36mWebElement.click\u001b[0;34m(self)\u001b[0m\n\u001b[1;32m     79\u001b[0m \u001b[38;5;28;01mdef\u001b[39;00m \u001b[38;5;21mclick\u001b[39m(\u001b[38;5;28mself\u001b[39m) \u001b[38;5;241m-\u001b[39m\u001b[38;5;241m>\u001b[39m \u001b[38;5;28;01mNone\u001b[39;00m:\n\u001b[1;32m     80\u001b[0m \u001b[38;5;250m    \u001b[39m\u001b[38;5;124;03m\"\"\"Clicks the element.\"\"\"\u001b[39;00m\n\u001b[0;32m---> 81\u001b[0m     \u001b[38;5;28mself\u001b[39m\u001b[38;5;241m.\u001b[39m_execute(Command\u001b[38;5;241m.\u001b[39mCLICK_ELEMENT)\n",
      "File \u001b[0;32m~/anaconda3/lib/python3.11/site-packages/selenium/webdriver/remote/webelement.py:740\u001b[0m, in \u001b[0;36mWebElement._execute\u001b[0;34m(self, command, params)\u001b[0m\n\u001b[1;32m    738\u001b[0m     params \u001b[38;5;241m=\u001b[39m {}\n\u001b[1;32m    739\u001b[0m params[\u001b[38;5;124m'\u001b[39m\u001b[38;5;124mid\u001b[39m\u001b[38;5;124m'\u001b[39m] \u001b[38;5;241m=\u001b[39m \u001b[38;5;28mself\u001b[39m\u001b[38;5;241m.\u001b[39m_id\n\u001b[0;32m--> 740\u001b[0m \u001b[38;5;28;01mreturn\u001b[39;00m \u001b[38;5;28mself\u001b[39m\u001b[38;5;241m.\u001b[39m_parent\u001b[38;5;241m.\u001b[39mexecute(command, params)\n",
      "File \u001b[0;32m~/anaconda3/lib/python3.11/site-packages/selenium/webdriver/remote/webdriver.py:430\u001b[0m, in \u001b[0;36mWebDriver.execute\u001b[0;34m(self, driver_command, params)\u001b[0m\n\u001b[1;32m    428\u001b[0m response \u001b[38;5;241m=\u001b[39m \u001b[38;5;28mself\u001b[39m\u001b[38;5;241m.\u001b[39mcommand_executor\u001b[38;5;241m.\u001b[39mexecute(driver_command, params)\n\u001b[1;32m    429\u001b[0m \u001b[38;5;28;01mif\u001b[39;00m response:\n\u001b[0;32m--> 430\u001b[0m     \u001b[38;5;28mself\u001b[39m\u001b[38;5;241m.\u001b[39merror_handler\u001b[38;5;241m.\u001b[39mcheck_response(response)\n\u001b[1;32m    431\u001b[0m     response[\u001b[38;5;124m'\u001b[39m\u001b[38;5;124mvalue\u001b[39m\u001b[38;5;124m'\u001b[39m] \u001b[38;5;241m=\u001b[39m \u001b[38;5;28mself\u001b[39m\u001b[38;5;241m.\u001b[39m_unwrap_value(\n\u001b[1;32m    432\u001b[0m         response\u001b[38;5;241m.\u001b[39mget(\u001b[38;5;124m'\u001b[39m\u001b[38;5;124mvalue\u001b[39m\u001b[38;5;124m'\u001b[39m, \u001b[38;5;28;01mNone\u001b[39;00m))\n\u001b[1;32m    433\u001b[0m     \u001b[38;5;28;01mreturn\u001b[39;00m response\n",
      "File \u001b[0;32m~/anaconda3/lib/python3.11/site-packages/selenium/webdriver/remote/errorhandler.py:247\u001b[0m, in \u001b[0;36mErrorHandler.check_response\u001b[0;34m(self, response)\u001b[0m\n\u001b[1;32m    245\u001b[0m         alert_text \u001b[38;5;241m=\u001b[39m value[\u001b[38;5;124m'\u001b[39m\u001b[38;5;124malert\u001b[39m\u001b[38;5;124m'\u001b[39m]\u001b[38;5;241m.\u001b[39mget(\u001b[38;5;124m'\u001b[39m\u001b[38;5;124mtext\u001b[39m\u001b[38;5;124m'\u001b[39m)\n\u001b[1;32m    246\u001b[0m     \u001b[38;5;28;01mraise\u001b[39;00m exception_class(message, screen, stacktrace, alert_text)  \u001b[38;5;66;03m# type: ignore[call-arg]  # mypy is not smart enough here\u001b[39;00m\n\u001b[0;32m--> 247\u001b[0m \u001b[38;5;28;01mraise\u001b[39;00m exception_class(message, screen, stacktrace)\n",
      "\u001b[0;31mElementNotInteractableException\u001b[0m: Message: element not interactable\n  (Session info: chrome=122.0.6261.112)\nStacktrace:\n0   chromedriver                        0x0000000102ce8508 chromedriver + 3966216\n1   chromedriver                        0x0000000102ce0a94 chromedriver + 3934868\n2   chromedriver                        0x0000000102963bf4 chromedriver + 277492\n3   chromedriver                        0x00000001029a74dc chromedriver + 554204\n4   chromedriver                        0x000000010299ce84 chromedriver + 511620\n5   chromedriver                        0x000000010299c8a8 chromedriver + 510120\n6   chromedriver                        0x00000001029debf0 chromedriver + 781296\n7   chromedriver                        0x000000010299afb0 chromedriver + 503728\n8   chromedriver                        0x000000010299ba28 chromedriver + 506408\n9   chromedriver                        0x0000000102cad6f0 chromedriver + 3725040\n10  chromedriver                        0x0000000102cb1be4 chromedriver + 3742692\n11  chromedriver                        0x0000000102c961d8 chromedriver + 3629528\n12  chromedriver                        0x0000000102cb26e0 chromedriver + 3745504\n13  chromedriver                        0x0000000102c89550 chromedriver + 3577168\n14  chromedriver                        0x0000000102cd0f40 chromedriver + 3870528\n15  chromedriver                        0x0000000102cd10e4 chromedriver + 3870948\n16  chromedriver                        0x0000000102ce0704 chromedriver + 3933956\n17  libsystem_pthread.dylib             0x00000001810e7878 _pthread_start + 320\n18  libsystem_pthread.dylib             0x00000001810e25e0 thread_start + 8\n"
     ]
    }
   ],
   "source": [
    "\n",
    "driver = webdriver.Chrome(ChromeDriverManager().install())\n",
    "url='https://www.google.com.tw'\n",
    "driver.get(url)\n",
    "element = driver.find_element_by_class_name('gLFyf')\n",
    "element.send_keys('python')\n",
    "driver.find_element_by_class_name('gNO89b').click()"
   ]
  },
  {
   "cell_type": "code",
   "execution_count": 2,
   "metadata": {},
   "outputs": [
    {
     "name": "stderr",
     "output_type": "stream",
     "text": [
      "/var/folders/4p/_w7sb0h97x989ymb8f68ts_h0000gn/T/ipykernel_4777/1734864518.py:8: DeprecationWarning: executable_path has been deprecated, please pass in a Service object\n",
      "  driver = webdriver.Chrome(ChromeDriverManager().install())\n"
     ]
    }
   ],
   "source": [
    "from selenium.webdriver.support.ui import WebDriverWait\n",
    "from selenium.webdriver.support import expected_conditions as EC\n",
    "from selenium.webdriver.common.by import By\n",
    "from selenium import webdriver\n",
    "from webdriver_manager.chrome import ChromeDriverManager\n",
    "\n",
    "for i in range(5):\n",
    "    driver = webdriver.Chrome(ChromeDriverManager().install())\n",
    "    url='https://www.google.com.tw'\n",
    "    driver.get(url)\n",
    "\n",
    "    element = WebDriverWait(driver, 5).until(\n",
    "        EC.element_to_be_clickable((By.CLASS_NAME, 'gLFyf'))\n",
    "    )\n",
    "    element.send_keys('python')\n",
    "\n",
    "    submit_button = WebDriverWait(driver, 5).until(\n",
    "        EC.element_to_be_clickable((By.CLASS_NAME, 'gNO89b'))\n",
    "    )\n",
    "    submit_button.click()\n",
    "    driver.back()\n",
    "    driver.quit()"
   ]
  },
  {
   "cell_type": "code",
   "execution_count": 27,
   "metadata": {},
   "outputs": [
    {
     "name": "stderr",
     "output_type": "stream",
     "text": [
      "/var/folders/4p/_w7sb0h97x989ymb8f68ts_h0000gn/T/ipykernel_2296/2922497188.py:1: DeprecationWarning: find_element_by_class_name is deprecated. Please use find_element(by=By.CLASS_NAME, value=name) instead\n",
      "  element = driver.find_element_by_class_name('gLFyf')\n",
      "/var/folders/4p/_w7sb0h97x989ymb8f68ts_h0000gn/T/ipykernel_2296/2922497188.py:3: DeprecationWarning: find_element_by_class_name is deprecated. Please use find_element(by=By.CLASS_NAME, value=name) instead\n",
      "  driver.find_element_by_class_name('gNO89b').click()\n"
     ]
    }
   ],
   "source": [
    "element = driver.find_element_by_class_name('gLFyf')\n",
    "element.send_keys('python')\n",
    "driver.find_element_by_class_name('gNO89b').click()\n",
    "\n",
    "##class 方法"
   ]
  },
  {
   "cell_type": "code",
   "execution_count": 19,
   "metadata": {},
   "outputs": [
    {
     "ename": "NameError",
     "evalue": "name 'dirver' is not defined",
     "output_type": "error",
     "traceback": [
      "\u001b[0;31m---------------------------------------------------------------------------\u001b[0m",
      "\u001b[0;31mNameError\u001b[0m                                 Traceback (most recent call last)",
      "Cell \u001b[0;32mIn[19], line 1\u001b[0m\n\u001b[0;32m----> 1\u001b[0m dirver\u001b[38;5;241m.\u001b[39mback()\n",
      "\u001b[0;31mNameError\u001b[0m: name 'dirver' is not defined"
     ]
    }
   ],
   "source": [
    "dirver.back()\n"
   ]
  },
  {
   "cell_type": "markdown",
   "metadata": {},
   "source": [
    "option command c  網頁後台"
   ]
  },
  {
   "cell_type": "code",
   "execution_count": 5,
   "metadata": {},
   "outputs": [
    {
     "ename": "NameError",
     "evalue": "name 'dirver' is not defined",
     "output_type": "error",
     "traceback": [
      "\u001b[0;31m---------------------------------------------------------------------------\u001b[0m",
      "\u001b[0;31mNameError\u001b[0m                                 Traceback (most recent call last)",
      "Cell \u001b[0;32mIn[5], line 1\u001b[0m\n\u001b[0;32m----> 1\u001b[0m dirver\u001b[38;5;241m.\u001b[39mcurrent_url\n",
      "\u001b[0;31mNameError\u001b[0m: name 'dirver' is not defined"
     ]
    }
   ],
   "source": [
    "dirver.current_url"
   ]
  },
  {
   "cell_type": "code",
   "execution_count": 5,
   "metadata": {},
   "outputs": [
    {
     "ename": "NoSuchElementException",
     "evalue": "Message: no such element: Unable to locate element: {\"method\":\"css selector\",\"selector\":\"[id=\"search\"]\"}\n  (Session info: chrome=122.0.6261.112)\nStacktrace:\n0   chromedriver                        0x00000001028b0508 chromedriver + 3966216\n1   chromedriver                        0x00000001028a8a94 chromedriver + 3934868\n2   chromedriver                        0x000000010252bda0 chromedriver + 277920\n3   chromedriver                        0x000000010256e394 chromedriver + 549780\n4   chromedriver                        0x00000001025a6bf0 chromedriver + 781296\n5   chromedriver                        0x0000000102562fb0 chromedriver + 503728\n6   chromedriver                        0x0000000102563a28 chromedriver + 506408\n7   chromedriver                        0x00000001028756f0 chromedriver + 3725040\n8   chromedriver                        0x0000000102879be4 chromedriver + 3742692\n9   chromedriver                        0x000000010285e1d8 chromedriver + 3629528\n10  chromedriver                        0x000000010287a6e0 chromedriver + 3745504\n11  chromedriver                        0x0000000102851550 chromedriver + 3577168\n12  chromedriver                        0x0000000102898f40 chromedriver + 3870528\n13  chromedriver                        0x00000001028990e4 chromedriver + 3870948\n14  chromedriver                        0x00000001028a8704 chromedriver + 3933956\n15  libsystem_pthread.dylib             0x00000001810e7878 _pthread_start + 320\n16  libsystem_pthread.dylib             0x00000001810e25e0 thread_start + 8\n",
     "output_type": "error",
     "traceback": [
      "\u001b[0;31m---------------------------------------------------------------------------\u001b[0m",
      "\u001b[0;31mNoSuchElementException\u001b[0m                    Traceback (most recent call last)",
      "Cell \u001b[0;32mIn[5], line 1\u001b[0m\n\u001b[0;32m----> 1\u001b[0m driver\u001b[38;5;241m.\u001b[39mfind_element(By\u001b[38;5;241m.\u001b[39mID, \u001b[38;5;124m'\u001b[39m\u001b[38;5;124msearch\u001b[39m\u001b[38;5;124m'\u001b[39m)\u001b[38;5;241m.\u001b[39mclick()\n",
      "File \u001b[0;32m~/anaconda3/lib/python3.11/site-packages/selenium/webdriver/remote/webdriver.py:1251\u001b[0m, in \u001b[0;36mWebDriver.find_element\u001b[0;34m(self, by, value)\u001b[0m\n\u001b[1;32m   1248\u001b[0m     by \u001b[38;5;241m=\u001b[39m By\u001b[38;5;241m.\u001b[39mCSS_SELECTOR\n\u001b[1;32m   1249\u001b[0m     value \u001b[38;5;241m=\u001b[39m \u001b[38;5;124m'\u001b[39m\u001b[38;5;124m[name=\u001b[39m\u001b[38;5;124m\"\u001b[39m\u001b[38;5;132;01m%s\u001b[39;00m\u001b[38;5;124m\"\u001b[39m\u001b[38;5;124m]\u001b[39m\u001b[38;5;124m'\u001b[39m \u001b[38;5;241m%\u001b[39m value\n\u001b[0;32m-> 1251\u001b[0m \u001b[38;5;28;01mreturn\u001b[39;00m \u001b[38;5;28mself\u001b[39m\u001b[38;5;241m.\u001b[39mexecute(Command\u001b[38;5;241m.\u001b[39mFIND_ELEMENT, {\n\u001b[1;32m   1252\u001b[0m     \u001b[38;5;124m'\u001b[39m\u001b[38;5;124musing\u001b[39m\u001b[38;5;124m'\u001b[39m: by,\n\u001b[1;32m   1253\u001b[0m     \u001b[38;5;124m'\u001b[39m\u001b[38;5;124mvalue\u001b[39m\u001b[38;5;124m'\u001b[39m: value})[\u001b[38;5;124m'\u001b[39m\u001b[38;5;124mvalue\u001b[39m\u001b[38;5;124m'\u001b[39m]\n",
      "File \u001b[0;32m~/anaconda3/lib/python3.11/site-packages/selenium/webdriver/remote/webdriver.py:430\u001b[0m, in \u001b[0;36mWebDriver.execute\u001b[0;34m(self, driver_command, params)\u001b[0m\n\u001b[1;32m    428\u001b[0m response \u001b[38;5;241m=\u001b[39m \u001b[38;5;28mself\u001b[39m\u001b[38;5;241m.\u001b[39mcommand_executor\u001b[38;5;241m.\u001b[39mexecute(driver_command, params)\n\u001b[1;32m    429\u001b[0m \u001b[38;5;28;01mif\u001b[39;00m response:\n\u001b[0;32m--> 430\u001b[0m     \u001b[38;5;28mself\u001b[39m\u001b[38;5;241m.\u001b[39merror_handler\u001b[38;5;241m.\u001b[39mcheck_response(response)\n\u001b[1;32m    431\u001b[0m     response[\u001b[38;5;124m'\u001b[39m\u001b[38;5;124mvalue\u001b[39m\u001b[38;5;124m'\u001b[39m] \u001b[38;5;241m=\u001b[39m \u001b[38;5;28mself\u001b[39m\u001b[38;5;241m.\u001b[39m_unwrap_value(\n\u001b[1;32m    432\u001b[0m         response\u001b[38;5;241m.\u001b[39mget(\u001b[38;5;124m'\u001b[39m\u001b[38;5;124mvalue\u001b[39m\u001b[38;5;124m'\u001b[39m, \u001b[38;5;28;01mNone\u001b[39;00m))\n\u001b[1;32m    433\u001b[0m     \u001b[38;5;28;01mreturn\u001b[39;00m response\n",
      "File \u001b[0;32m~/anaconda3/lib/python3.11/site-packages/selenium/webdriver/remote/errorhandler.py:247\u001b[0m, in \u001b[0;36mErrorHandler.check_response\u001b[0;34m(self, response)\u001b[0m\n\u001b[1;32m    245\u001b[0m         alert_text \u001b[38;5;241m=\u001b[39m value[\u001b[38;5;124m'\u001b[39m\u001b[38;5;124malert\u001b[39m\u001b[38;5;124m'\u001b[39m]\u001b[38;5;241m.\u001b[39mget(\u001b[38;5;124m'\u001b[39m\u001b[38;5;124mtext\u001b[39m\u001b[38;5;124m'\u001b[39m)\n\u001b[1;32m    246\u001b[0m     \u001b[38;5;28;01mraise\u001b[39;00m exception_class(message, screen, stacktrace, alert_text)  \u001b[38;5;66;03m# type: ignore[call-arg]  # mypy is not smart enough here\u001b[39;00m\n\u001b[0;32m--> 247\u001b[0m \u001b[38;5;28;01mraise\u001b[39;00m exception_class(message, screen, stacktrace)\n",
      "\u001b[0;31mNoSuchElementException\u001b[0m: Message: no such element: Unable to locate element: {\"method\":\"css selector\",\"selector\":\"[id=\"search\"]\"}\n  (Session info: chrome=122.0.6261.112)\nStacktrace:\n0   chromedriver                        0x00000001028b0508 chromedriver + 3966216\n1   chromedriver                        0x00000001028a8a94 chromedriver + 3934868\n2   chromedriver                        0x000000010252bda0 chromedriver + 277920\n3   chromedriver                        0x000000010256e394 chromedriver + 549780\n4   chromedriver                        0x00000001025a6bf0 chromedriver + 781296\n5   chromedriver                        0x0000000102562fb0 chromedriver + 503728\n6   chromedriver                        0x0000000102563a28 chromedriver + 506408\n7   chromedriver                        0x00000001028756f0 chromedriver + 3725040\n8   chromedriver                        0x0000000102879be4 chromedriver + 3742692\n9   chromedriver                        0x000000010285e1d8 chromedriver + 3629528\n10  chromedriver                        0x000000010287a6e0 chromedriver + 3745504\n11  chromedriver                        0x0000000102851550 chromedriver + 3577168\n12  chromedriver                        0x0000000102898f40 chromedriver + 3870528\n13  chromedriver                        0x00000001028990e4 chromedriver + 3870948\n14  chromedriver                        0x00000001028a8704 chromedriver + 3933956\n15  libsystem_pthread.dylib             0x00000001810e7878 _pthread_start + 320\n16  libsystem_pthread.dylib             0x00000001810e25e0 thread_start + 8\n"
     ]
    }
   ],
   "source": [
    "driver.find_element(By.ID, 'search').click()    "
   ]
  },
  {
   "cell_type": "code",
   "execution_count": 6,
   "metadata": {},
   "outputs": [
    {
     "data": {
      "text/plain": [
       "<selenium.webdriver.remote.webelement.WebElement (session=\"cceda2db1db8da67e9090f197c5c9e65\", element=\"f.ADB2FB4203715944210F475B8FB5A5F4.d.F5755430C2FFC90DC0A080B224A8332C.e.118\")>"
      ]
     },
     "execution_count": 6,
     "metadata": {},
     "output_type": "execute_result"
    }
   ],
   "source": [
    "driver.find_element(By.ID, 'gb') "
   ]
  },
  {
   "cell_type": "code",
   "execution_count": 10,
   "metadata": {},
   "outputs": [
    {
     "data": {
      "text/plain": [
       "<selenium.webdriver.remote.webelement.WebElement (session=\"cceda2db1db8da67e9090f197c5c9e65\", element=\"f.ADB2FB4203715944210F475B8FB5A5F4.d.F5755430C2FFC90DC0A080B224A8332C.e.2\")>"
      ]
     },
     "execution_count": 10,
     "metadata": {},
     "output_type": "execute_result"
    }
   ],
   "source": [
    "driver.find_element(By.CLASS_NAME, 'gLFyf')"
   ]
  },
  {
   "cell_type": "code",
   "execution_count": 14,
   "metadata": {},
   "outputs": [
    {
     "name": "stderr",
     "output_type": "stream",
     "text": [
      "/var/folders/4p/_w7sb0h97x989ymb8f68ts_h0000gn/T/ipykernel_3148/1350838358.py:2: DeprecationWarning: find_element_by_name is deprecated. Please use find_element(by=By.NAME, value=name) instead\n",
      "  driver.find_element_by_name('q')\n"
     ]
    },
    {
     "data": {
      "text/plain": [
       "<selenium.webdriver.remote.webelement.WebElement (session=\"cceda2db1db8da67e9090f197c5c9e65\", element=\"f.ADB2FB4203715944210F475B8FB5A5F4.d.F5755430C2FFC90DC0A080B224A8332C.e.2\")>"
      ]
     },
     "execution_count": 14,
     "metadata": {},
     "output_type": "execute_result"
    }
   ],
   "source": [
    "# 抓取單一\n",
    "driver.find_element(By.NAME, 'q')\n",
    "#  下面這個方法是抓取多個\n",
    "driver.find_element_by_name('q')"
   ]
  },
  {
   "cell_type": "code",
   "execution_count": 13,
   "metadata": {},
   "outputs": [
    {
     "name": "stderr",
     "output_type": "stream",
     "text": [
      "/var/folders/4p/_w7sb0h97x989ymb8f68ts_h0000gn/T/ipykernel_3148/499504265.py:2: DeprecationWarning: find_element_by_name is deprecated. Please use find_element(by=By.NAME, value=name) instead\n",
      "  driver.find_element_by_name('csi')\n"
     ]
    },
    {
     "data": {
      "text/plain": [
       "<selenium.webdriver.remote.webelement.WebElement (session=\"cceda2db1db8da67e9090f197c5c9e65\", element=\"f.ADB2FB4203715944210F475B8FB5A5F4.d.F5755430C2FFC90DC0A080B224A8332C.e.22\")>"
      ]
     },
     "execution_count": 13,
     "metadata": {},
     "output_type": "execute_result"
    }
   ],
   "source": [
    "driver.find_element(By.NAME, 'csi')\n",
    "driver.find_element_by_name('csi')"
   ]
  },
  {
   "cell_type": "code",
   "execution_count": 17,
   "metadata": {},
   "outputs": [],
   "source": [
    "#  抓到文字部分\n",
    "driver.find_element(By.LINK_TEXT, '關於 Google').click()\n",
    "driver.find_element(By.LINK_TEXT, 'Google 商店').click()"
   ]
  },
  {
   "cell_type": "code",
   "execution_count": 29,
   "metadata": {},
   "outputs": [
    {
     "name": "stderr",
     "output_type": "stream",
     "text": [
      "/var/folders/4p/_w7sb0h97x989ymb8f68ts_h0000gn/T/ipykernel_3148/3269647056.py:3: DeprecationWarning: find_elements_by_partial_link_text is deprecated. Please use find_elements(by=By.PARTIAL_LINK_TEXT, value=link_text) instead\n",
      "  elements = driver.find_elements_by_partial_link_text('Google')\n"
     ]
    }
   ],
   "source": [
    "driver.find_element(By.PARTIAL_LINK_TEXT, 'Google')\n",
    "driver.find_element(By.PARTIAL_LINK_TEXT, 'Google')\n"
   ]
  },
  {
   "cell_type": "code",
   "execution_count": 13,
   "metadata": {},
   "outputs": [
    {
     "name": "stderr",
     "output_type": "stream",
     "text": [
      "/var/folders/4p/_w7sb0h97x989ymb8f68ts_h0000gn/T/ipykernel_3981/3189902540.py:2: DeprecationWarning: executable_path has been deprecated, please pass in a Service object\n",
      "  driver = webdriver.Chrome(ChromeDriverManager().install())\n"
     ]
    },
    {
     "ename": "TimeoutException",
     "evalue": "Message: \nStacktrace:\n0   chromedriver                        0x0000000104e58508 chromedriver + 3966216\n1   chromedriver                        0x0000000104e50a94 chromedriver + 3934868\n2   chromedriver                        0x0000000104ad3da0 chromedriver + 277920\n3   chromedriver                        0x0000000104b16394 chromedriver + 549780\n4   chromedriver                        0x0000000104b4ebf0 chromedriver + 781296\n5   chromedriver                        0x0000000104b0afb0 chromedriver + 503728\n6   chromedriver                        0x0000000104b0ba28 chromedriver + 506408\n7   chromedriver                        0x0000000104e1d6f0 chromedriver + 3725040\n8   chromedriver                        0x0000000104e21be4 chromedriver + 3742692\n9   chromedriver                        0x0000000104e061d8 chromedriver + 3629528\n10  chromedriver                        0x0000000104e226e0 chromedriver + 3745504\n11  chromedriver                        0x0000000104df9550 chromedriver + 3577168\n12  chromedriver                        0x0000000104e40f40 chromedriver + 3870528\n13  chromedriver                        0x0000000104e410e4 chromedriver + 3870948\n14  chromedriver                        0x0000000104e50704 chromedriver + 3933956\n15  libsystem_pthread.dylib             0x00000001810e7878 _pthread_start + 320\n16  libsystem_pthread.dylib             0x00000001810e25e0 thread_start + 8\n",
     "output_type": "error",
     "traceback": [
      "\u001b[0;31m---------------------------------------------------------------------------\u001b[0m",
      "\u001b[0;31mTimeoutException\u001b[0m                          Traceback (most recent call last)",
      "Cell \u001b[0;32mIn[13], line 7\u001b[0m\n\u001b[1;32m      5\u001b[0m driver\u001b[38;5;241m.\u001b[39mfind_elements(By\u001b[38;5;241m.\u001b[39mTAG_NAME, \u001b[38;5;124m'\u001b[39m\u001b[38;5;124mHead\u001b[39m\u001b[38;5;124m'\u001b[39m)   \n\u001b[1;32m      6\u001b[0m driver\u001b[38;5;241m.\u001b[39mfind_elements(By\u001b[38;5;241m.\u001b[39mTAG_NAME, \u001b[38;5;124m'\u001b[39m\u001b[38;5;124mdiv\u001b[39m\u001b[38;5;124m'\u001b[39m)  \n\u001b[0;32m----> 7\u001b[0m element \u001b[38;5;241m=\u001b[39m WebDriverWait(driver, \u001b[38;5;241m10\u001b[39m)\u001b[38;5;241m.\u001b[39muntil(\n\u001b[1;32m      8\u001b[0m     EC\u001b[38;5;241m.\u001b[39mpresence_of_element_located((By\u001b[38;5;241m.\u001b[39mXPATH, \u001b[38;5;124m'\u001b[39m\u001b[38;5;124m//*[@id=\u001b[39m\u001b[38;5;124m\"\u001b[39m\u001b[38;5;124mhptl\u001b[39m\u001b[38;5;124m\"\u001b[39m\u001b[38;5;124m]/a[1]\u001b[39m\u001b[38;5;124m'\u001b[39m))\n\u001b[1;32m      9\u001b[0m )\n",
      "File \u001b[0;32m~/anaconda3/lib/python3.11/site-packages/selenium/webdriver/support/wait.py:89\u001b[0m, in \u001b[0;36mWebDriverWait.until\u001b[0;34m(self, method, message)\u001b[0m\n\u001b[1;32m     87\u001b[0m     \u001b[38;5;28;01mif\u001b[39;00m time\u001b[38;5;241m.\u001b[39mmonotonic() \u001b[38;5;241m>\u001b[39m end_time:\n\u001b[1;32m     88\u001b[0m         \u001b[38;5;28;01mbreak\u001b[39;00m\n\u001b[0;32m---> 89\u001b[0m \u001b[38;5;28;01mraise\u001b[39;00m TimeoutException(message, screen, stacktrace)\n",
      "\u001b[0;31mTimeoutException\u001b[0m: Message: \nStacktrace:\n0   chromedriver                        0x0000000104e58508 chromedriver + 3966216\n1   chromedriver                        0x0000000104e50a94 chromedriver + 3934868\n2   chromedriver                        0x0000000104ad3da0 chromedriver + 277920\n3   chromedriver                        0x0000000104b16394 chromedriver + 549780\n4   chromedriver                        0x0000000104b4ebf0 chromedriver + 781296\n5   chromedriver                        0x0000000104b0afb0 chromedriver + 503728\n6   chromedriver                        0x0000000104b0ba28 chromedriver + 506408\n7   chromedriver                        0x0000000104e1d6f0 chromedriver + 3725040\n8   chromedriver                        0x0000000104e21be4 chromedriver + 3742692\n9   chromedriver                        0x0000000104e061d8 chromedriver + 3629528\n10  chromedriver                        0x0000000104e226e0 chromedriver + 3745504\n11  chromedriver                        0x0000000104df9550 chromedriver + 3577168\n12  chromedriver                        0x0000000104e40f40 chromedriver + 3870528\n13  chromedriver                        0x0000000104e410e4 chromedriver + 3870948\n14  chromedriver                        0x0000000104e50704 chromedriver + 3933956\n15  libsystem_pthread.dylib             0x00000001810e7878 _pthread_start + 320\n16  libsystem_pthread.dylib             0x00000001810e25e0 thread_start + 8\n"
     ]
    }
   ],
   "source": [
    "# dirver.find_element(By.TAG_NAME, 'div') \n",
    "driver = webdriver.Chrome(ChromeDriverManager().install())\n",
    "url='https://www.google.com.tw'\n",
    "driver.get(url)\n",
    "driver.find_elements(By.TAG_NAME, 'Head')   \n",
    "driver.find_elements(By.TAG_NAME, 'div')  \n",
    "element = WebDriverWait(driver, 10).until(\n",
    "    EC.presence_of_element_located((By.XPATH, '//*[@id=\"hptl\"]/a[1]'))\n",
    ")"
   ]
  },
  {
   "cell_type": "code",
   "execution_count": null,
   "metadata": {},
   "outputs": [],
   "source": []
  }
 ],
 "metadata": {
  "kernelspec": {
   "display_name": "base",
   "language": "python",
   "name": "python3"
  },
  "language_info": {
   "codemirror_mode": {
    "name": "ipython",
    "version": 3
   },
   "file_extension": ".py",
   "mimetype": "text/x-python",
   "name": "python",
   "nbconvert_exporter": "python",
   "pygments_lexer": "ipython3",
   "version": "3.11.5"
  }
 },
 "nbformat": 4,
 "nbformat_minor": 2
}
