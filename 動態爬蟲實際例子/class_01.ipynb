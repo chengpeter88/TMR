{
 "cells": [
  {
   "cell_type": "code",
   "execution_count": 1,
   "metadata": {},
   "outputs": [],
   "source": [
    "from selenium import webdriver   \n",
    "from selenium.webdriver.common.keys import Keys\n",
    "from selenium.webdriver.common.by import By\n",
    "from selenium.webdriver.support.ui import WebDriverWait\n",
    "from selenium.webdriver.support import expected_conditions as EC\n",
    "from selenium.webdriver.common.action_chains import ActionChains\n",
    "import time\n",
    "import os\n",
    "\n"
   ]
  },
  {
   "cell_type": "code",
   "execution_count": 3,
   "metadata": {},
   "outputs": [
    {
     "name": "stderr",
     "output_type": "stream",
     "text": [
      "/var/folders/4p/_w7sb0h97x989ymb8f68ts_h0000gn/T/ipykernel_26327/4129460814.py:3: DeprecationWarning: executable_path has been deprecated, please pass in a Service object\n",
      "  browser = webdriver.Chrome('Chromedriver')\n"
     ]
    }
   ],
   "source": [
    "search = \"國立臺北大學\"\n",
    "url ='https://www.google.com/maps/@25.0150912,121.4611456,14z?entry=ttu'\n",
    "browser = webdriver.Chrome('Chromedriver')\n"
   ]
  },
  {
   "cell_type": "code",
   "execution_count": 4,
   "metadata": {},
   "outputs": [],
   "source": [
    "browser.get(url)"
   ]
  },
  {
   "cell_type": "code",
   "execution_count": 8,
   "metadata": {},
   "outputs": [
    {
     "ename": "ElementNotInteractableException",
     "evalue": "Message: element not interactable\n  (Session info: chrome=122.0.6261.112)\nStacktrace:\n0   Chromedriver                        0x000000010095c508 Chromedriver + 3966216\n1   Chromedriver                        0x0000000100954a94 Chromedriver + 3934868\n2   Chromedriver                        0x00000001005d7bf4 Chromedriver + 277492\n3   Chromedriver                        0x00000001006151bc Chromedriver + 528828\n4   Chromedriver                        0x0000000100613b3c Chromedriver + 523068\n5   Chromedriver                        0x00000001006108a8 Chromedriver + 510120\n6   Chromedriver                        0x0000000100652bf0 Chromedriver + 781296\n7   Chromedriver                        0x000000010060efb0 Chromedriver + 503728\n8   Chromedriver                        0x000000010060fa28 Chromedriver + 506408\n9   Chromedriver                        0x00000001009216f0 Chromedriver + 3725040\n10  Chromedriver                        0x0000000100925be4 Chromedriver + 3742692\n11  Chromedriver                        0x000000010090a1d8 Chromedriver + 3629528\n12  Chromedriver                        0x00000001009266e0 Chromedriver + 3745504\n13  Chromedriver                        0x00000001008fd550 Chromedriver + 3577168\n14  Chromedriver                        0x0000000100944f40 Chromedriver + 3870528\n15  Chromedriver                        0x00000001009450e4 Chromedriver + 3870948\n16  Chromedriver                        0x0000000100954704 Chromedriver + 3933956\n17  libsystem_pthread.dylib             0x00000001810e7878 _pthread_start + 320\n18  libsystem_pthread.dylib             0x00000001810e25e0 thread_start + 8\n",
     "output_type": "error",
     "traceback": [
      "\u001b[0;31m---------------------------------------------------------------------------\u001b[0m",
      "\u001b[0;31mElementNotInteractableException\u001b[0m           Traceback (most recent call last)",
      "Cell \u001b[0;32mIn[8], line 3\u001b[0m\n\u001b[1;32m      1\u001b[0m WebDriverWait(browser, \u001b[38;5;241m30\u001b[39m)\u001b[38;5;241m.\u001b[39muntil(EC\u001b[38;5;241m.\u001b[39mpresence_of_element_located((By\u001b[38;5;241m.\u001b[39mID, \u001b[38;5;124m\"\u001b[39m\u001b[38;5;124msearchboxinput\u001b[39m\u001b[38;5;124m\"\u001b[39m)))    \n\u001b[1;32m      2\u001b[0m search_box \u001b[38;5;241m=\u001b[39m browser\u001b[38;5;241m.\u001b[39mfind_element(By\u001b[38;5;241m.\u001b[39mID, \u001b[38;5;124m\"\u001b[39m\u001b[38;5;124msearchboxinput\u001b[39m\u001b[38;5;124m\"\u001b[39m)\n\u001b[0;32m----> 3\u001b[0m search_box\u001b[38;5;241m.\u001b[39msend_keys(search)\n",
      "File \u001b[0;32m~/anaconda3/lib/python3.11/site-packages/selenium/webdriver/remote/webelement.py:570\u001b[0m, in \u001b[0;36mWebElement.send_keys\u001b[0;34m(self, *value)\u001b[0m\n\u001b[1;32m    567\u001b[0m             remote_files\u001b[38;5;241m.\u001b[39mappend(\u001b[38;5;28mself\u001b[39m\u001b[38;5;241m.\u001b[39m_upload(file))\n\u001b[1;32m    568\u001b[0m         value \u001b[38;5;241m=\u001b[39m \u001b[38;5;124m'\u001b[39m\u001b[38;5;130;01m\\n\u001b[39;00m\u001b[38;5;124m'\u001b[39m\u001b[38;5;241m.\u001b[39mjoin(remote_files)\n\u001b[0;32m--> 570\u001b[0m \u001b[38;5;28mself\u001b[39m\u001b[38;5;241m.\u001b[39m_execute(Command\u001b[38;5;241m.\u001b[39mSEND_KEYS_TO_ELEMENT,\n\u001b[1;32m    571\u001b[0m               {\u001b[38;5;124m'\u001b[39m\u001b[38;5;124mtext\u001b[39m\u001b[38;5;124m'\u001b[39m: \u001b[38;5;124m\"\u001b[39m\u001b[38;5;124m\"\u001b[39m\u001b[38;5;241m.\u001b[39mjoin(keys_to_typing(value)),\n\u001b[1;32m    572\u001b[0m                \u001b[38;5;124m'\u001b[39m\u001b[38;5;124mvalue\u001b[39m\u001b[38;5;124m'\u001b[39m: keys_to_typing(value)})\n",
      "File \u001b[0;32m~/anaconda3/lib/python3.11/site-packages/selenium/webdriver/remote/webelement.py:740\u001b[0m, in \u001b[0;36mWebElement._execute\u001b[0;34m(self, command, params)\u001b[0m\n\u001b[1;32m    738\u001b[0m     params \u001b[38;5;241m=\u001b[39m {}\n\u001b[1;32m    739\u001b[0m params[\u001b[38;5;124m'\u001b[39m\u001b[38;5;124mid\u001b[39m\u001b[38;5;124m'\u001b[39m] \u001b[38;5;241m=\u001b[39m \u001b[38;5;28mself\u001b[39m\u001b[38;5;241m.\u001b[39m_id\n\u001b[0;32m--> 740\u001b[0m \u001b[38;5;28;01mreturn\u001b[39;00m \u001b[38;5;28mself\u001b[39m\u001b[38;5;241m.\u001b[39m_parent\u001b[38;5;241m.\u001b[39mexecute(command, params)\n",
      "File \u001b[0;32m~/anaconda3/lib/python3.11/site-packages/selenium/webdriver/remote/webdriver.py:430\u001b[0m, in \u001b[0;36mWebDriver.execute\u001b[0;34m(self, driver_command, params)\u001b[0m\n\u001b[1;32m    428\u001b[0m response \u001b[38;5;241m=\u001b[39m \u001b[38;5;28mself\u001b[39m\u001b[38;5;241m.\u001b[39mcommand_executor\u001b[38;5;241m.\u001b[39mexecute(driver_command, params)\n\u001b[1;32m    429\u001b[0m \u001b[38;5;28;01mif\u001b[39;00m response:\n\u001b[0;32m--> 430\u001b[0m     \u001b[38;5;28mself\u001b[39m\u001b[38;5;241m.\u001b[39merror_handler\u001b[38;5;241m.\u001b[39mcheck_response(response)\n\u001b[1;32m    431\u001b[0m     response[\u001b[38;5;124m'\u001b[39m\u001b[38;5;124mvalue\u001b[39m\u001b[38;5;124m'\u001b[39m] \u001b[38;5;241m=\u001b[39m \u001b[38;5;28mself\u001b[39m\u001b[38;5;241m.\u001b[39m_unwrap_value(\n\u001b[1;32m    432\u001b[0m         response\u001b[38;5;241m.\u001b[39mget(\u001b[38;5;124m'\u001b[39m\u001b[38;5;124mvalue\u001b[39m\u001b[38;5;124m'\u001b[39m, \u001b[38;5;28;01mNone\u001b[39;00m))\n\u001b[1;32m    433\u001b[0m     \u001b[38;5;28;01mreturn\u001b[39;00m response\n",
      "File \u001b[0;32m~/anaconda3/lib/python3.11/site-packages/selenium/webdriver/remote/errorhandler.py:247\u001b[0m, in \u001b[0;36mErrorHandler.check_response\u001b[0;34m(self, response)\u001b[0m\n\u001b[1;32m    245\u001b[0m         alert_text \u001b[38;5;241m=\u001b[39m value[\u001b[38;5;124m'\u001b[39m\u001b[38;5;124malert\u001b[39m\u001b[38;5;124m'\u001b[39m]\u001b[38;5;241m.\u001b[39mget(\u001b[38;5;124m'\u001b[39m\u001b[38;5;124mtext\u001b[39m\u001b[38;5;124m'\u001b[39m)\n\u001b[1;32m    246\u001b[0m     \u001b[38;5;28;01mraise\u001b[39;00m exception_class(message, screen, stacktrace, alert_text)  \u001b[38;5;66;03m# type: ignore[call-arg]  # mypy is not smart enough here\u001b[39;00m\n\u001b[0;32m--> 247\u001b[0m \u001b[38;5;28;01mraise\u001b[39;00m exception_class(message, screen, stacktrace)\n",
      "\u001b[0;31mElementNotInteractableException\u001b[0m: Message: element not interactable\n  (Session info: chrome=122.0.6261.112)\nStacktrace:\n0   Chromedriver                        0x000000010095c508 Chromedriver + 3966216\n1   Chromedriver                        0x0000000100954a94 Chromedriver + 3934868\n2   Chromedriver                        0x00000001005d7bf4 Chromedriver + 277492\n3   Chromedriver                        0x00000001006151bc Chromedriver + 528828\n4   Chromedriver                        0x0000000100613b3c Chromedriver + 523068\n5   Chromedriver                        0x00000001006108a8 Chromedriver + 510120\n6   Chromedriver                        0x0000000100652bf0 Chromedriver + 781296\n7   Chromedriver                        0x000000010060efb0 Chromedriver + 503728\n8   Chromedriver                        0x000000010060fa28 Chromedriver + 506408\n9   Chromedriver                        0x00000001009216f0 Chromedriver + 3725040\n10  Chromedriver                        0x0000000100925be4 Chromedriver + 3742692\n11  Chromedriver                        0x000000010090a1d8 Chromedriver + 3629528\n12  Chromedriver                        0x00000001009266e0 Chromedriver + 3745504\n13  Chromedriver                        0x00000001008fd550 Chromedriver + 3577168\n14  Chromedriver                        0x0000000100944f40 Chromedriver + 3870528\n15  Chromedriver                        0x00000001009450e4 Chromedriver + 3870948\n16  Chromedriver                        0x0000000100954704 Chromedriver + 3933956\n17  libsystem_pthread.dylib             0x00000001810e7878 _pthread_start + 320\n18  libsystem_pthread.dylib             0x00000001810e25e0 thread_start + 8\n"
     ]
    }
   ],
   "source": [
    "WebDriverWait(browser, 30).until(EC.presence_of_element_located((By.ID, \"searchboxinput\")))    \n",
    "search_box = browser.find_element(By.ID, \"searchboxinput\")\n",
    "search_box.send_keys(search)"
   ]
  },
  {
   "cell_type": "code",
   "execution_count": null,
   "metadata": {},
   "outputs": [],
   "source": []
  }
 ],
 "metadata": {
  "kernelspec": {
   "display_name": "base",
   "language": "python",
   "name": "python3"
  },
  "language_info": {
   "codemirror_mode": {
    "name": "ipython",
    "version": 3
   },
   "file_extension": ".py",
   "mimetype": "text/x-python",
   "name": "python",
   "nbconvert_exporter": "python",
   "pygments_lexer": "ipython3",
   "version": "3.11.5"
  }
 },
 "nbformat": 4,
 "nbformat_minor": 2
}
