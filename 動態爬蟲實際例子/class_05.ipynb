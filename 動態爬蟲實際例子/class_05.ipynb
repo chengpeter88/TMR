{
 "cells": [
  {
   "cell_type": "code",
   "execution_count": 4,
   "metadata": {},
   "outputs": [],
   "source": [
    "import time\n",
    "import pandas as pd\n",
    "from datetime import datetime\n",
    "from selenium import webdriver\n",
    "from selenium.webdriver.chrome.service import Service as ChromeService\n",
    "browser = webdriver.Chrome(service=ChromeService())\n",
    "from bs4 import BeautifulSoup as Soup\n",
    "from selenium.webdriver.common.by import By\n",
    "from selenium.webdriver.common.keys import Keys\n",
    "from selenium.webdriver.support.wait import WebDriverWait\n",
    "from selenium.webdriver.common.action_chains import ActionChains\n",
    "from selenium.webdriver.support import expected_conditions as EC\n",
    "import re"
   ]
  },
  {
   "cell_type": "code",
   "execution_count": 9,
   "metadata": {},
   "outputs": [
    {
     "data": {
      "text/plain": [
       "re.compile(r'TMR', re.UNICODE)"
      ]
     },
     "execution_count": 9,
     "metadata": {},
     "output_type": "execute_result"
    }
   ],
   "source": [
    "sentences = \"TMR課程受用無窮\"\n",
    "cut=re.compile(\"TMR\")\n",
    "cut"
   ]
  },
  {
   "cell_type": "code",
   "execution_count": 10,
   "metadata": {},
   "outputs": [
    {
     "data": {
      "text/plain": [
       "'本日課程受用無窮'"
      ]
     },
     "execution_count": 10,
     "metadata": {},
     "output_type": "execute_result"
    }
   ],
   "source": [
    "sub_sentence=cut.sub(\"本日\",sentences) \n",
    "sub_sentence    "
   ]
  },
  {
   "cell_type": "code",
   "execution_count": 11,
   "metadata": {},
   "outputs": [],
   "source": [
    "cut = re.compile(\"TMR|受用\")"
   ]
  },
  {
   "cell_type": "code",
   "execution_count": 13,
   "metadata": {},
   "outputs": [
    {
     "data": {
      "text/plain": [
       "'TMR'"
      ]
     },
     "execution_count": 13,
     "metadata": {},
     "output_type": "execute_result"
    }
   ],
   "source": [
    "macth_sentence=cut.match(sentences)    \n",
    "macth_sentence.group()"
   ]
  },
  {
   "cell_type": "markdown",
   "metadata": {},
   "source": [
    "用以下的字串清單使用 re.compile 抓取形容ＴＭＲ的詞\n",
    "cut =  re.compile(\"TMR\")"
   ]
  },
  {
   "cell_type": "code",
   "execution_count": 14,
   "metadata": {},
   "outputs": [
    {
     "name": "stdout",
     "output_type": "stream",
     "text": [
      "[('alan', 'peter', 'john')]\n"
     ]
    }
   ],
   "source": [
    "text = '講師：alan、peter、john'    \n",
    "author = re.findall('講師：(.+?)、(.+?)、(.+)', text)   \n",
    "print(author)"
   ]
  },
  {
   "cell_type": "code",
   "execution_count": 17,
   "metadata": {},
   "outputs": [
    {
     "data": {
      "text/plain": [
       "['好棒', '好', '超級棒']"
      ]
     },
     "execution_count": 17,
     "metadata": {},
     "output_type": "execute_result"
    }
   ],
   "source": [
    "sentences = [\"TMR好棒\",\"TMR好\",\"TMR超級棒\"]\n",
    "cut = re.compile(\"TMR\")\n",
    "\n",
    "# cut_sentence = [cut.sub(\"本日\",sentence) for sentence in sentences] \n",
    "cut_sentence =[]\n",
    "for i in sentences:\n",
    "    cut_sentence.append(cut.sub(\"\",i))\n",
    "\n",
    "cut_sentence"
   ]
  },
  {
   "cell_type": "code",
   "execution_count": 26,
   "metadata": {},
   "outputs": [
    {
     "name": "stdout",
     "output_type": "stream",
     "text": [
      "Finish Searching! 國立臺北大學\n"
     ]
    }
   ],
   "source": [
    "# %%\n",
    "\n",
    "# %%\n",
    "import time\n",
    "import pandas as pd\n",
    "from datetime import datetime\n",
    "from selenium import webdriver\n",
    "from selenium.webdriver.chrome.service import Service as ChromeService\n",
    "browser = webdriver.Chrome(service=ChromeService())\n",
    "from bs4 import BeautifulSoup as Soup\n",
    "from selenium.webdriver.common.by import By\n",
    "from selenium.webdriver.common.keys import Keys\n",
    "from selenium.webdriver.support.wait import WebDriverWait\n",
    "from selenium.webdriver.common.action_chains import ActionChains\n",
    "from selenium.webdriver.support import expected_conditions as EC\n",
    "\n",
    "# %% [markdown]\n",
    "# ## 首先，我們先執行到顯示\"臺師大\"頁面的地方，並利用Soup取得網頁元素框架\n",
    "\n",
    "# %%\n",
    "search= \"國立臺北大學\"\n",
    "\n",
    "# 開啟chromedriver\n",
    "url = 'https://www.google.com.tw/maps?hl=zh-TW&tab=rl&authuser=0'  \n",
    "browser.get(url)\n",
    "\n",
    "# 輸入欲搜尋的店家名稱\n",
    "WebDriverWait(browser, 30).until(EC.presence_of_element_located((By.CLASS_NAME, 'searchboxinput.xiQnY')))\n",
    "search_input = browser.find_elements(By.CLASS_NAME,'searchboxinput.xiQnY')[0]\n",
    "search_input.send_keys(search)\n",
    "\n",
    "# 定位搜尋鍵並點擊\n",
    "WebDriverWait(browser, 30).until(EC.presence_of_element_located((By.ID, 'searchbox-searchbutton')))\n",
    "\n",
    "search_click = browser.find_elements(By.ID,'searchbox-searchbutton')[0]\n",
    "\n",
    "search_click.click()\n",
    "\n",
    "#選擇第一個點選\n",
    "\n",
    "try:\n",
    "    WebDriverWait(browser, 30).until(EC.presence_of_element_located((By.CLASS_NAME,'hfpxzc')))\n",
    "    choose_first_item_click=browser.find_elements(By.CLASS_NAME,'hfpxzc')[0]\n",
    "    choose_first_item_click.click()\n",
    "except:\n",
    "    print('不用點到第二層')\n",
    "print(\"Finish Searching! \" + search)\n",
    "time.sleep(2.85)\n",
    "\n",
    "soup = Soup(browser.page_source,\"lxml\")\n",
    "\n",
    "# %% [markdown]\n",
    "# ## 爬取學校電話號碼\n"
   ]
  },
  {
   "cell_type": "code",
   "execution_count": null,
   "metadata": {},
   "outputs": [],
   "source": [
    "#<button class=\"CsEnBe\" jsaction=\"pane.wfvdle178;clickmod:pane.wfvdle178;focus:pane.focusTooltip;blur:pane.blurTooltip\" aria-label=\"電話號碼: 02 8674 1111 \" data-item-id=\"phone:tel:0286741111\" data-tooltip=\"複製電話號碼\" jslog=\"18491; track:click; mutable:true;metadata:WyIwYWhVS0V3aTZuWm10b3V1RUF4VThuNjhCSFhVSURfQVFfZG9CQ0JNb0NnIl0=\"><div class=\"AeaXub\"><div class=\"cXHGnc\"><div class=\"Eottgc \"><img class=\"Liguzb\" alt=\"\" src=\"//www.gstatic.com/images/icons/material/system_gm/2x/phone_gm_blue_24dp.png\"></div></div><div class=\"rogA2c \"><div class=\"Io6YTe fontBodyMedium kR99db \" style=\"font-family: Roboto, &quot;Noto Sans TC&quot;, Arial, sans-serif;\">02 8674 1111</div><div class=\"gSkmPd fontBodySmall CuiGbf DshQNd\" style=\"font-family: Roboto, &quot;Noto Sans TC&quot;, Arial, sans-serif;\"></div></div></div></button>"
   ]
  },
  {
   "cell_type": "code",
   "execution_count": 24,
   "metadata": {},
   "outputs": [
    {
     "name": "stdout",
     "output_type": "stream",
     "text": [
      "店家電話號碼： ['02 8674 1111']\n"
     ]
    }
   ],
   "source": [
    "\n",
    "# %%\n",
    "phone_frame = soup.find_all('button', {'data-tooltip':\"複製電話號碼\"})\n",
    "\n",
    "# %%\n",
    "\n",
    "\n",
    "# %%\n",
    "phones=[]\n",
    "\n",
    "if phone_frame == []:\n",
    "    phones.append([])\n",
    "    print('您的電話號碼為空號')\n",
    "else:\n",
    "    phone_num = phone_frame[0].get('aria-label').strip().strip('電話號碼: ')\n",
    "    \n",
    "    phones.append(phone_num)\n",
    "print(\"店家電話號碼：\", phones)\n"
   ]
  },
  {
   "cell_type": "code",
   "execution_count": 25,
   "metadata": {},
   "outputs": [
    {
     "data": {
      "text/plain": [
       "[<button aria-label=\"電話號碼: 02 8674 1111 \" class=\"CsEnBe\" data-item-id=\"phone:tel:0286741111\" data-tooltip=\"複製電話號碼\" jsaction=\"pane.wfvdle64;clickmod:pane.wfvdle64;focus:pane.focusTooltip;blur:pane.blurTooltip\" jslog=\"18491; track:click; mutable:true;metadata:WyIwYWhVS0V3aVQwc2FNb3V1RUF4VjBjZlVISFNWZURxWVFfZG9CQ0JNb0NnIl0=\"><div class=\"AeaXub\"><div class=\"cXHGnc\"><div class=\"Eottgc\"><img alt=\"\" class=\"Liguzb\" src=\"//www.gstatic.com/images/icons/material/system_gm/2x/phone_gm_blue_24dp.png\"/></div></div><div class=\"rogA2c\"><div class=\"Io6YTe fontBodyMedium kR99db\" style='font-family: Roboto, \"Noto Sans TC\", Arial, sans-serif;'>02 8674 1111</div><div class=\"gSkmPd fontBodySmall CuiGbf DshQNd\" style='font-family: Roboto, \"Noto Sans TC\", Arial, sans-serif;'></div></div></div></button>,\n",
       " <button aria-label=\"複製電話號碼\" class=\"g88MCb S9kvJb\" data-tooltip=\"複製電話號碼\" data-value=\"複製電話號碼\" jsaction=\"pane.wfvdle65;keydown:pane.wfvdle65;mouseover:pane.wfvdle65;mouseout:pane.wfvdle65;focus:pane.focusTooltip;blur:pane.blurTooltip\" jslog=\"38097;track:click;mutable:true;\"><span class=\"DVeyrd\"><div class=\"OyjIsf zemfqc\"></div><img alt=\"複製電話號碼\" aria-hidden=\"true\" class=\"EgL07d\" draggable=\"false\" src=\"//www.gstatic.com/images/icons/material/system_gm/2x/content_copy_gm_grey_18dp.png\"/></span></button>]"
      ]
     },
     "execution_count": 25,
     "metadata": {},
     "output_type": "execute_result"
    }
   ],
   "source": [
    "phone_frame"
   ]
  },
  {
   "cell_type": "code",
   "execution_count": 23,
   "metadata": {},
   "outputs": [
    {
     "data": {
      "text/plain": [
       "[]"
      ]
     },
     "execution_count": 23,
     "metadata": {},
     "output_type": "execute_result"
    }
   ],
   "source": [
    "\n",
    "phone_frame = soup.find_all('button', {'aria-label': '電話號碼: '})\n",
    "phone_frame "
   ]
  },
  {
   "cell_type": "code",
   "execution_count": null,
   "metadata": {},
   "outputs": [],
   "source": [
    "phone_frame = soup.find_all('button', {'data-item-id':\"phone:tel:\"})"
   ]
  },
  {
   "cell_type": "code",
   "execution_count": null,
   "metadata": {},
   "outputs": [],
   "source": [
    "<button class=\"CsEnBe\" jsaction=\"pane.wfvdle178;clickmod:pane.wfvdle178;focus:pane.focusTooltip;blur:pane.blurTooltip\" aria-label=\"電話號碼: 02 8674 1111 \" data-item-id=\"phone:tel:0286741111\" data-tooltip=\"複製電話號碼\" jslog=\"18491; track:click; mutable:true;metadata:WyIwYWhVS0V3aTZuWm10b3V1RUF4VThuNjhCSFhVSURfQVFfZG9CQ0JNb0NnIl0=\"><div class=\"AeaXub\"><div class=\"cXHGnc\"><div class=\"Eottgc \"><img class=\"Liguzb\" alt=\"\" src=\"//www.gstatic.com/images/icons/material/system_gm/2x/phone_gm_blue_24dp.png\"></div></div><div class=\"rogA2c \"><div class=\"Io6YTe fontBodyMedium kR99db \" style=\"font-family: Roboto, &quot;Noto Sans TC&quot;, Arial, sans-serif;\">02 8674 1111</div><div class=\"gSkmPd fontBodySmall CuiGbf DshQNd\" style=\"font-family: Roboto, &quot;Noto Sans TC&quot;, Arial, sans-serif;\"></div></div></div></button>"
   ]
  },
  {
   "cell_type": "code",
   "execution_count": null,
   "metadata": {},
   "outputs": [],
   "source": [
    "\n",
    "phone_frame = soup.find_all('button', {'data-tooltip':\"複製電話號碼\"})\n",
    "\n",
    "# %%\n",
    "phone_frame\n",
    "\n",
    "# %%\n",
    "phones=[]\n",
    "\n",
    "if phone_frame == []:\n",
    "    phones.append([])\n",
    "    print('您的電話號碼為空號')\n",
    "else:\n",
    "    phone_num = phone_frame[0].get('aria-label').strip().strip('電話號碼: ')\n",
    "    \n",
    "    phones.append(phone_num)\n",
    "print(\"店家電話號碼：\", phones)"
   ]
  },
  {
   "cell_type": "code",
   "execution_count": null,
   "metadata": {},
   "outputs": [],
   "source": [
    "phone_frame = soup.find_all('buttom',{'data-item-id':re.compile('phone')})\n",
    "phone = [] \n",
    "if phone_frame:\n",
    "    for i in phone_frame:\n",
    "        phone.append(i.text)\n",
    "    print(phone)"
   ]
  },
  {
   "cell_type": "code",
   "execution_count": 28,
   "metadata": {},
   "outputs": [
    {
     "name": "stdout",
     "output_type": "stream",
     "text": [
      "您的電話號碼為空號\n",
      "店家電話號碼： [[]]\n"
     ]
    }
   ],
   "source": [
    "phone_frame  = soup.find_all('button', {'data-item-id':re.compile('phone')})\n",
    "phone_frame = []\n",
    "phones = [] \n",
    "if phone_frame==[]:\n",
    "    phones.append([])\n",
    "    print('您的電話號碼為空號')\n",
    "else:\n",
    "    phone_num = phone_frame[0].get('aria-label').strip().strip('電話號碼: ')\n",
    "    phones.append(phone_num)\n",
    "print(\"店家電話號碼：\", phones)"
   ]
  },
  {
   "cell_type": "code",
   "execution_count": null,
   "metadata": {},
   "outputs": [],
   "source": []
  }
 ],
 "metadata": {
  "kernelspec": {
   "display_name": "base",
   "language": "python",
   "name": "python3"
  },
  "language_info": {
   "codemirror_mode": {
    "name": "ipython",
    "version": 3
   },
   "file_extension": ".py",
   "mimetype": "text/x-python",
   "name": "python",
   "nbconvert_exporter": "python",
   "pygments_lexer": "ipython3",
   "version": "3.11.5"
  }
 },
 "nbformat": 4,
 "nbformat_minor": 2
}
