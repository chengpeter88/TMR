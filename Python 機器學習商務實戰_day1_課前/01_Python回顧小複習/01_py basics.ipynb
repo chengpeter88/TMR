{
 "cells": [
  {
   "cell_type": "markdown",
   "source": [
    "<div style=\"text-align:center\"><span style=\"font-size:1.2cm; line-height: 1.5cm; font-family:cursive; \">Python basics</span><br></div>"
   ],
   "metadata": {}
  },
  {
   "cell_type": "markdown",
   "source": [
    "<span style=\"font-size:1cm; line-height: 2cm; font-family:cursive;\">一、list 練習</span><br>"
   ],
   "metadata": {}
  },
  {
   "cell_type": "markdown",
   "source": [
    "<span style=\"font-size:0.7cm;font-family:cursive;\">問題 : 如何將list 附加 'TMR課程好'</span><br>"
   ],
   "metadata": {}
  },
  {
   "cell_type": "code",
   "execution_count": 1,
   "source": [
    "tmrlist = ['今日頭條新聞，TMR公司開設行銷資料科學專班', \r\n",
    "           '好棒棒'] "
   ],
   "outputs": [],
   "metadata": {}
  },
  {
   "cell_type": "markdown",
   "source": [
    "作答："
   ],
   "metadata": {}
  },
  {
   "cell_type": "code",
   "execution_count": 2,
   "source": [
    "tmrlist.append('TMR課程好')"
   ],
   "outputs": [],
   "metadata": {}
  },
  {
   "cell_type": "code",
   "execution_count": 3,
   "source": [
    "tmrlist"
   ],
   "outputs": [
    {
     "output_type": "execute_result",
     "data": {
      "text/plain": [
       "['今日頭條新聞，TMR公司開設行銷資料科學專班', '好棒棒', 'TMR課程好']"
      ]
     },
     "metadata": {},
     "execution_count": 3
    }
   ],
   "metadata": {}
  },
  {
   "cell_type": "markdown",
   "source": [
    "<span style=\"font-size:1cm; line-height: 2cm; font-family:cursive;\">二、for 練習</span><br>"
   ],
   "metadata": {}
  },
  {
   "cell_type": "markdown",
   "source": [
    "<span style=\"font-size:0.7cm;font-family:cursive;\"> 問題：使用for迴圈（2行），印出1、2、3、4、5</span><br>"
   ],
   "metadata": {}
  },
  {
   "cell_type": "code",
   "execution_count": 4,
   "source": [
    "a = [1,2,3,4,5]"
   ],
   "outputs": [],
   "metadata": {}
  },
  {
   "cell_type": "markdown",
   "source": [
    "作答："
   ],
   "metadata": {}
  },
  {
   "cell_type": "code",
   "execution_count": 5,
   "source": [
    "for i in a:\r\n",
    "    print(i)"
   ],
   "outputs": [
    {
     "output_type": "stream",
     "name": "stdout",
     "text": [
      "1\n",
      "2\n",
      "3\n",
      "4\n",
      "5\n"
     ]
    }
   ],
   "metadata": {}
  },
  {
   "cell_type": "markdown",
   "source": [
    "<span style=\"font-size:1cm; line-height: 2cm; font-family:cursive;\">三、list 與 for 練習</span><br>"
   ],
   "metadata": {}
  },
  {
   "cell_type": "markdown",
   "source": [
    "<span style=\"font-size:0.7cm;font-family:cursive;\">問題 : 將有TMR的句子以list的方式儲存起來</span><br>"
   ],
   "metadata": {}
  },
  {
   "cell_type": "code",
   "execution_count": 6,
   "source": [
    "#-------------- 核心程式---------\r\n",
    "# 意涵：\r\n",
    "'''\r\n",
    "1. 做資料倉儲\r\n",
    "2. 統計聲量？ --> 聲量代表潛在可能的商機（$）\r\n",
    "\r\n",
    "寫程式的口訣：copy, paste, and modify\r\n",
    "'''\r\n",
    "\r\n",
    "tmrlist = ['今日頭條新聞，TMR公司開設行銷資料科學專班', \r\n",
    "           '好棒棒', 'TMR課程好','我愛daphne', '我愛howard']"
   ],
   "outputs": [],
   "metadata": {}
  },
  {
   "cell_type": "markdown",
   "source": [
    "作答："
   ],
   "metadata": {}
  },
  {
   "cell_type": "code",
   "execution_count": 7,
   "source": [
    "# save用來存儲新的list\r\n",
    "save = []\r\n",
    "for word in tmrlist:\r\n",
    "    if 'TMR' in word:\r\n",
    "        save.append(word)"
   ],
   "outputs": [],
   "metadata": {}
  },
  {
   "cell_type": "code",
   "execution_count": 8,
   "source": [
    "save"
   ],
   "outputs": [
    {
     "output_type": "execute_result",
     "data": {
      "text/plain": [
       "['今日頭條新聞，TMR公司開設行銷資料科學專班', 'TMR課程好']"
      ]
     },
     "metadata": {},
     "execution_count": 8
    }
   ],
   "metadata": {}
  },
  {
   "cell_type": "code",
   "execution_count": 9,
   "source": [
    "# 一種聲量的概念\r\n",
    "len(save)"
   ],
   "outputs": [
    {
     "output_type": "execute_result",
     "data": {
      "text/plain": [
       "2"
      ]
     },
     "metadata": {},
     "execution_count": 9
    }
   ],
   "metadata": {}
  },
  {
   "cell_type": "code",
   "execution_count": null,
   "source": [],
   "outputs": [],
   "metadata": {}
  }
 ],
 "metadata": {
  "kernelspec": {
   "name": "python3",
   "display_name": "Python 3.7.8 64-bit"
  },
  "language_info": {
   "codemirror_mode": {
    "name": "ipython",
    "version": 3
   },
   "file_extension": ".py",
   "mimetype": "text/x-python",
   "name": "python",
   "nbconvert_exporter": "python",
   "pygments_lexer": "ipython3",
   "version": "3.7.8"
  },
  "interpreter": {
   "hash": "2929ee0822fdc46cd033fb3c17e1dd55d304741ca92a32ba3683308b5e1000ae"
  }
 },
 "nbformat": 4,
 "nbformat_minor": 2
}