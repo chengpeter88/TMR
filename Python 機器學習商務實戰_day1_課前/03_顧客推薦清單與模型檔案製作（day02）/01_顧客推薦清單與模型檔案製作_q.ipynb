{
 "cells": [
  {
   "cell_type": "markdown",
   "source": [
    "<div style=\"text-align:center\"><span style=\"font-size:1.5cm; line-height: 2cm; font-family:cursive; \">顧客推薦清單<br>與模型檔案製作</span><br></div>"
   ],
   "metadata": {}
  },
  {
   "cell_type": "markdown",
   "source": [
    "<span style=\"font-size:1cm; line-height: 2cm; font-family:cursive;\">一 、 載入套件與資料</span><br>"
   ],
   "metadata": {}
  },
  {
   "cell_type": "code",
   "execution_count": null,
   "source": [
    "# Importing the libraries\r\n",
    "import os\r\n",
    "os.environ['KMP_DUPLICATE_LIB_OK']='True'\r\n",
    "\r\n",
    "from util import get_dummies, detect_str_columns,model_testRF,results_summary_to_dataframe,plot_confusion_matrix,logistic_model,logistic_importance,logistic_conf\r\n",
    "\r\n",
    "from sklearn.ensemble import RandomForestClassifier\r\n",
    "from sklearn.tree import DecisionTreeClassifier\r\n",
    "from sklearn.linear_model import LogisticRegression\r\n",
    "from sklearn.metrics import confusion_matrix, auc, accuracy_score,classification_report\r\n",
    "import pandas as pd\r\n",
    "from sklearn.model_selection import train_test_split\r\n",
    "from xgboost import XGBClassifier\r\n",
    "\r\n",
    "# ----設定繪圖-------\r\n",
    "import matplotlib.pyplot as plt\r\n",
    "import seaborn as sns \r\n",
    "import numpy as np\r\n",
    "import os\r\n",
    "import platform\r\n",
    "\r\n",
    "# 讀取電商資料\r\n",
    "data = pd.read_csv('contract.csv')"
   ],
   "outputs": [],
   "metadata": {}
  },
  {
   "cell_type": "markdown",
   "source": [
    "<span style=\"font-size:1cm; line-height: 2cm; font-family:cursive;\">二 、 變數視覺化</span><br>"
   ],
   "metadata": {}
  },
  {
   "cell_type": "code",
   "execution_count": null,
   "source": [
    "# Buy 比例\r\n",
    "print('不購買', round(data['buy'].value_counts()[0]/len(data) * 100,2), '% of the dataset')\r\n",
    "print('購買', round(data['buy'].value_counts()[1]/len(data) * 100,2), '% of the dataset')\r\n",
    "\r\n",
    "# 看看 y變數的分佈圖\r\n",
    "colors = [\"#0101DF\", \"#DF0101\"]\r\n",
    "sns.countplot('buy', data=data, palette=colors)\r\n",
    "plt.title('purchase decision \\n (0:no vs 1:yes )', fontsize=14)\r\n",
    "\r\n",
    "# 不平衡資料集 --> imbalanced dataset"
   ],
   "outputs": [],
   "metadata": {}
  },
  {
   "cell_type": "markdown",
   "source": [
    "<span style=\"font-size:1cm; line-height: 2cm; font-family:cursive;\">三 、 資料處理與轉換</span><span style=\"font-size:0.8cm; line-height: 2cm; font-family:cursive;\"> - 變數轉換</span><br>"
   ],
   "metadata": {}
  },
  {
   "cell_type": "code",
   "execution_count": null,
   "source": [
    "'''\r\n",
    " 1. 標籤編碼（Label Encoding）：該方法將各類別轉換成數字，在商業界及社會科學中，\r\n",
    "                                最常見的就是李克特5點量表的轉換，這也是「順序尺\r\n",
    "                                度」之概念，也就是具有大小之分的類別，建議適用該\r\n",
    "                                法。\r\n",
    "                                \r\n",
    " 2. 獨熱編碼（One-Hot Encoding）：這代表將類別轉換成欄位格式，並且以1（有該類別）\r\n",
    "                                與0（沒有該類別）的形式表示之。\r\n",
    "''' "
   ],
   "outputs": [],
   "metadata": {}
  },
  {
   "cell_type": "markdown",
   "source": [
    "<span style=\"font-size:0.7cm;font-family:cursive;\"> 1. 使用 - 獨熱編碼</span><br>"
   ],
   "metadata": {}
  },
  {
   "cell_type": "code",
   "execution_count": null,
   "source": [
    "# 偵測有字串的欄位\r\n",
    "str_columns = detect_str_columns(data)\r\n",
    "\r\n",
    "print(str_columns)\r\n",
    "'''\r\n",
    "why? \r\n",
    "因為['使用者地區', '性別']皆非順序尺度，當作一般one hot encoding類別變數處理就可\r\n",
    "'''\r\n",
    "dataset = get_dummies(['locations'], data)\r\n",
    "dataset.head(5)"
   ],
   "outputs": [],
   "metadata": {}
  },
  {
   "cell_type": "markdown",
   "source": [
    "<span style=\"font-size:0.7cm;font-family:cursive;\"> 3. 資料處理與轉換 - 小練習</span><br>"
   ],
   "metadata": {}
  },
  {
   "cell_type": "markdown",
   "source": [
    "<span style=\"font-size:0.6cm;font-family:cursive;\">問題一</span><br>\n",
    "<span style=\"font-size:0.6cm;font-family:cursive;\">請問我們應該如何將「性別 gender」也變成one hot encoding的變數？</span><br> "
   ],
   "metadata": {}
  },
  {
   "cell_type": "code",
   "execution_count": null,
   "source": [],
   "outputs": [],
   "metadata": {}
  },
  {
   "cell_type": "markdown",
   "source": [
    "<span style=\"font-size:0.6cm;font-family:cursive;\">問題二</span><br>\n",
    "<span style=\"font-size:0.6cm;font-family:cursive;\">請問我們應該如何「自動套入」get_dummies，讓`['locations', 'gender']`同時都變成one hot encoding 的形式?</span><br> "
   ],
   "metadata": {}
  },
  {
   "cell_type": "markdown",
   "source": [
    "<span style=\"font-size:0.6cm;font-family:cursive;\">作答 : </span><br>"
   ],
   "metadata": {}
  },
  {
   "cell_type": "code",
   "execution_count": null,
   "source": [],
   "outputs": [],
   "metadata": {}
  },
  {
   "cell_type": "code",
   "execution_count": null,
   "source": [
    "\r\n",
    "# 轉換完one-hot encoding後，要去查看info\r\n",
    "# why? 因為電腦只能判讀數字，要查看Dtype是否轉換成\r\n",
    "# 整數（int） or 浮點數（float）\r\n",
    "# 這樣電腦就可以計算囉！\r\n",
    "dataset.info()"
   ],
   "outputs": [],
   "metadata": {}
  },
  {
   "cell_type": "markdown",
   "source": [
    "<span style=\"font-size:1cm; line-height: 2cm; font-family:cursive;\">四 、 資料處理與轉換</span><span style=\"font-size:0.8cm; line-height: 2cm; font-family:cursive;\"> - 切分資料集</span><br>"
   ],
   "metadata": {}
  },
  {
   "cell_type": "code",
   "execution_count": null,
   "source": [],
   "outputs": [],
   "metadata": {}
  },
  {
   "cell_type": "markdown",
   "source": [
    "<span style=\"font-size:0.7cm;font-family:cursive;\"> 1. 將 x 與 y 分割開來</span><br>"
   ],
   "metadata": {}
  },
  {
   "cell_type": "code",
   "execution_count": null,
   "source": [
    "# 將X與y分割開來\r\n",
    "X =dataset.drop(columns=['buy'])\r\n",
    "y =dataset['buy']"
   ],
   "outputs": [],
   "metadata": {}
  },
  {
   "cell_type": "markdown",
   "source": [
    "<span style=\"font-size:0.7cm;font-family:cursive;\"> 2. 切分資料集</span><br>"
   ],
   "metadata": {}
  },
  {
   "cell_type": "code",
   "execution_count": null,
   "source": [
    "# 切分資料集\r\n",
    "\r\n",
    "'''\r\n",
    "切分成80％的訓練資料集\r\n",
    "    - X_train : X訓練變數\r\n",
    "    - y_train : y訓練變數\r\n",
    "    \r\n",
    "切分成20％的測試資料集\r\n",
    "    - X_test : X測試變數\r\n",
    "    - y_test : y測試變數\r\n",
    "'''\r\n",
    "\r\n",
    "X_train, X_test, y_train, y_test = train_test_split(X, y, test_size = 0.2, random_state = 0) \r\n"
   ],
   "outputs": [],
   "metadata": {}
  },
  {
   "cell_type": "markdown",
   "source": [
    "<span style=\"font-size:0.7cm;font-family:cursive;\"> 3. 查看各自的維度</span><br>"
   ],
   "metadata": {}
  },
  {
   "cell_type": "code",
   "execution_count": null,
   "source": [
    "# X 訓練資料集維度\n",
    "X_train.shape"
   ],
   "outputs": [],
   "metadata": {}
  },
  {
   "cell_type": "code",
   "execution_count": null,
   "source": [
    "# y 訓練資料集維度\n",
    "y_train.shape"
   ],
   "outputs": [],
   "metadata": {}
  },
  {
   "cell_type": "code",
   "execution_count": null,
   "source": [
    "# X 測試資料集維度\n",
    "X_test.shape"
   ],
   "outputs": [],
   "metadata": {}
  },
  {
   "cell_type": "markdown",
   "source": [
    "<span style=\"font-size:1cm; line-height: 2cm; font-family:cursive;\">四 、 資料處理與轉換</span><span style=\"font-size:0.7cm; line-height: 2cm; font-family:cursive;\"> - 將UID拿出來</span><br>"
   ],
   "metadata": {}
  },
  {
   "cell_type": "markdown",
   "source": [
    "<span style=\"font-size:0.7cm;font-family:cursive;\"> 1. 保留UID</span><br>"
   ],
   "metadata": {}
  },
  {
   "cell_type": "code",
   "execution_count": null,
   "source": [
    "# 保留UID  做推薦清單時需要將uid放回去 找到推薦人\n",
    "train_uid = X_train['UID']\n",
    "test_uid = X_test['UID']"
   ],
   "outputs": [],
   "metadata": {}
  },
  {
   "cell_type": "markdown",
   "source": [
    "<span style=\"font-size:0.7cm;font-family:cursive;\"> 2. 刪除UID</span><br>"
   ],
   "metadata": {}
  },
  {
   "cell_type": "code",
   "execution_count": null,
   "source": [
    "# 刪除UID 流水號\n",
    "del X_train['UID']\n",
    "#X_train['UID']\n",
    "del X_test['UID']"
   ],
   "outputs": [],
   "metadata": {}
  },
  {
   "cell_type": "markdown",
   "source": [
    "<span style=\"font-size:1cm; line-height: 2cm; font-family:cursive;\">五 、 羅吉斯迴歸</span>"
   ],
   "metadata": {}
  },
  {
   "cell_type": "markdown",
   "source": [
    "<span style=\"font-size:0.7cm;font-family:cursive;\"> 1. 命名模型物件</span><br>"
   ],
   "metadata": {}
  },
  {
   "cell_type": "code",
   "execution_count": null,
   "source": [
    "logistic_reg =LogisticRegression()"
   ],
   "outputs": [],
   "metadata": {}
  },
  {
   "cell_type": "markdown",
   "source": [
    "<span style=\"font-size:0.7cm;font-family:cursive;\"> 2. Feature Scaling</span><br>"
   ],
   "metadata": {}
  },
  {
   "cell_type": "code",
   "execution_count": null,
   "source": [
    "from sklearn.preprocessing import StandardScaler\n",
    "\n",
    "sc = StandardScaler()\n",
    "X_train_logistic = sc.fit_transform(X_train)\n",
    "X_test_logistic = sc.transform(X_test)"
   ],
   "outputs": [],
   "metadata": {}
  },
  {
   "cell_type": "markdown",
   "source": [
    "<span style=\"font-size:0.7cm;font-family:cursive;\"> 3. 進行訓練</span><br>"
   ],
   "metadata": {}
  },
  {
   "cell_type": "code",
   "execution_count": null,
   "source": [
    "logistic_reg.fit(X_train_logistic, y_train)"
   ],
   "outputs": [],
   "metadata": {}
  },
  {
   "cell_type": "markdown",
   "source": [
    "<span style=\"font-size:0.7cm;font-family:cursive;\"> 4. 預測</span><br>"
   ],
   "metadata": {}
  },
  {
   "cell_type": "code",
   "execution_count": null,
   "source": [
    "logistic_pred = logistic_reg.predict(X_test_logistic)"
   ],
   "outputs": [],
   "metadata": {}
  },
  {
   "cell_type": "markdown",
   "source": [
    "<span style=\"font-size:0.7cm;font-family:cursive;\"> 5. 預測機率</span><br>"
   ],
   "metadata": {}
  },
  {
   "cell_type": "code",
   "execution_count": null,
   "source": [
    "logistic_pred_proba = logistic_reg.predict_proba(X_test_logistic) "
   ],
   "outputs": [],
   "metadata": {}
  },
  {
   "cell_type": "markdown",
   "source": [
    "<span style=\"font-size:0.7cm;font-family:cursive;\"> 6. 準確率</span><br>"
   ],
   "metadata": {}
  },
  {
   "cell_type": "code",
   "execution_count": null,
   "source": [
    "accuracy_score(y_test, logistic_pred)"
   ],
   "outputs": [],
   "metadata": {}
  },
  {
   "cell_type": "markdown",
   "source": [
    "<span style=\"font-size:0.7cm;font-family:cursive;\"> 7. confusion matrix plot</span><br>"
   ],
   "metadata": {}
  },
  {
   "cell_type": "code",
   "execution_count": null,
   "source": [
    "model_testRF( LogisticRegression(), \n",
    "             X_train_logistic,y_train,X_test_logistic,y_test, plot_name = 'LogisticRegression')"
   ],
   "outputs": [],
   "metadata": {}
  },
  {
   "cell_type": "markdown",
   "source": [
    "<span style=\"font-size:1cm; line-height: 2cm; font-family:cursive;\">六 、 隨機森林</span>\n"
   ],
   "metadata": {}
  },
  {
   "cell_type": "code",
   "execution_count": null,
   "source": [
    "'''\n",
    "將模型物件命名：rf_model\n",
    "給出100棵樹進行預測: RandomForestClassifier(n_estimators = 100, random_state = 0,verbose=1,n_jobs=8)\n",
    "\n",
    "'''"
   ],
   "outputs": [],
   "metadata": {}
  },
  {
   "cell_type": "markdown",
   "source": [
    "<span style=\"font-size:0.7cm;font-family:cursive;\"> 1. 命名模型物件</span><br>"
   ],
   "metadata": {}
  },
  {
   "cell_type": "code",
   "execution_count": null,
   "source": [
    "rf_model =RandomForestClassifier(n_estimators = 100, random_state = 0,verbose=1,n_jobs=8)"
   ],
   "outputs": [],
   "metadata": {}
  },
  {
   "cell_type": "markdown",
   "source": [
    "<span style=\"font-size:0.7cm;font-family:cursive;\"> 2. Feature Scaling</span><br>"
   ],
   "metadata": {}
  },
  {
   "cell_type": "code",
   "execution_count": null,
   "source": [
    "from sklearn.preprocessing import StandardScaler\n",
    "sc = StandardScaler()\n",
    "X_train_logistic = sc.fit_transform(X_train)\n",
    "X_test_logistic = sc.transform(X_test)"
   ],
   "outputs": [],
   "metadata": {}
  },
  {
   "cell_type": "markdown",
   "source": [
    "<span style=\"font-size:0.7cm;font-family:cursive;\"> 3. 進行訓練</span><br>"
   ],
   "metadata": {}
  },
  {
   "cell_type": "code",
   "execution_count": null,
   "source": [
    "rf_model.fit(X_train_logistic, y_train)"
   ],
   "outputs": [],
   "metadata": {}
  },
  {
   "cell_type": "markdown",
   "source": [
    "<span style=\"font-size:0.7cm;font-family:cursive;\"> 4. 預測</span><br>"
   ],
   "metadata": {}
  },
  {
   "cell_type": "code",
   "execution_count": null,
   "source": [
    "rf_pred = rf_model.predict(X_test_logistic)"
   ],
   "outputs": [],
   "metadata": {}
  },
  {
   "cell_type": "markdown",
   "source": [
    "<span style=\"font-size:0.7cm;font-family:cursive;\"> 5. 預測機率</span><br>"
   ],
   "metadata": {}
  },
  {
   "cell_type": "code",
   "execution_count": null,
   "source": [
    "rf_pred_proba = rf_model.predict_proba(X_test_logistic) "
   ],
   "outputs": [],
   "metadata": {}
  },
  {
   "cell_type": "markdown",
   "source": [
    "<span style=\"font-size:0.7cm;font-family:cursive;\"> 6. 準確率</span><br>"
   ],
   "metadata": {}
  },
  {
   "cell_type": "code",
   "execution_count": null,
   "source": [
    "accuracy_score(y_test, rf_pred)"
   ],
   "outputs": [],
   "metadata": {}
  },
  {
   "cell_type": "markdown",
   "source": [
    "<span style=\"font-size:1cm; line-height: 2cm; font-family:cursive;\">七 、 XGBoost練習</span>\n"
   ],
   "metadata": {}
  },
  {
   "cell_type": "code",
   "execution_count": null,
   "source": [
    "'''\n",
    "xgb_model\n",
    "1. 給出100棵樹進行預測: xgb_model = XGBClassifier(n_estimators=100 ,random_state = 0,\n",
    " nthread = 8, learning_rate=0.5)\n",
    "\n",
    "2. fit部分請改：fit(X_train, y_train, verbose=True,\n",
    "                          eval_set=[(X_train, y_train), (X_test, y_test)])\n",
    "\n",
    "3. rf的名稱部分全部改成xgb\n",
    "\n",
    "'''"
   ],
   "outputs": [],
   "metadata": {}
  },
  {
   "cell_type": "markdown",
   "source": [
    "<span style=\"font-size:0.7cm;font-family:cursive;\"> 問題1 : 命名模型物件</span><br>"
   ],
   "metadata": {}
  },
  {
   "cell_type": "markdown",
   "source": [
    "<span style=\"font-size:0.7cm;font-family:cursive;\"> 問題2 : 進行訓練</span><br>"
   ],
   "metadata": {}
  },
  {
   "cell_type": "markdown",
   "source": [
    "<span style=\"font-size:0.7cm;font-family:cursive;\"> 作答:</span><br>"
   ],
   "metadata": {}
  },
  {
   "cell_type": "code",
   "execution_count": null,
   "source": [],
   "outputs": [],
   "metadata": {}
  },
  {
   "cell_type": "markdown",
   "source": [
    "<span style=\"font-size:0.7cm;font-family:cursive;\"> 3. 預測</span><br>"
   ],
   "metadata": {}
  },
  {
   "cell_type": "code",
   "execution_count": null,
   "source": [
    "xgb_pred = xgb_model.predict(X_test)"
   ],
   "outputs": [],
   "metadata": {}
  },
  {
   "cell_type": "markdown",
   "source": [
    "<span style=\"font-size:0.7cm;font-family:cursive;\"> 4. 預測機率</span><br>"
   ],
   "metadata": {}
  },
  {
   "cell_type": "code",
   "execution_count": null,
   "source": [
    "xgb_pred_proba = xgb_model.predict_proba(X_test) "
   ],
   "outputs": [],
   "metadata": {}
  },
  {
   "cell_type": "markdown",
   "source": [
    "<span style=\"font-size:0.7cm;font-family:cursive;\"> 5. 準確率</span><br>"
   ],
   "metadata": {}
  },
  {
   "cell_type": "code",
   "execution_count": null,
   "source": [
    "accuracy_score(y_test, xgb_pred)"
   ],
   "outputs": [],
   "metadata": {}
  },
  {
   "cell_type": "markdown",
   "source": [
    "<span style=\"font-size:1cm; line-height: 2cm; font-family:cursive;\">七 、 製作顧客產品推薦名單</span>\n"
   ],
   "metadata": {}
  },
  {
   "cell_type": "code",
   "execution_count": null,
   "source": [
    "XGBClassifier_test_df=pd.DataFrame(y_test.values ,columns =['客戶對A商品【實際】購買狀態'])\n",
    "XGBClassifier_test_df['客戶對A商品【預測】購買機率'] = xgb_pred_proba[:,1]\n",
    "test_uid = test_uid.reset_index().drop(columns = ['index'])  "
   ],
   "outputs": [],
   "metadata": {}
  },
  {
   "cell_type": "markdown",
   "source": [
    "<span style=\"font-size:0.7cm;font-family:cursive;\"> 問題1 : <br> 如何將test_uid與XGBClassifier_test_df結合成2欄</span><br>"
   ],
   "metadata": {}
  },
  {
   "cell_type": "code",
   "execution_count": null,
   "source": [
    "# hint : concat\n",
    "XGBClassifier_test_df=pd.concat([？？？], \n",
    "          axis = ？？？)"
   ],
   "outputs": [],
   "metadata": {}
  },
  {
   "cell_type": "markdown",
   "source": [
    "<span style=\"font-size:0.7cm;font-family:cursive;\"> 問題2 : <br>根據'客戶對A商品【預測】購買機率'排序</span><br>"
   ],
   "metadata": {}
  },
  {
   "cell_type": "code",
   "execution_count": null,
   "source": [
    "# hint : sort_values()\n",
    "XGBClassifier_test_df = XGBClassifier_test_df.？？？"
   ],
   "outputs": [],
   "metadata": {}
  },
  {
   "cell_type": "markdown",
   "source": [
    "<span style=\"font-size:0.7cm;font-family:cursive;\"> 問題3 : <br> 輸出csv，命名為顧客產品推薦名單.csv</span><br>"
   ],
   "metadata": {}
  },
  {
   "cell_type": "code",
   "execution_count": null,
   "source": [
    "XGBClassifier_test_df.？？？"
   ],
   "outputs": [],
   "metadata": {}
  },
  {
   "cell_type": "markdown",
   "source": [
    "<span style=\"font-size:0.7cm;font-family:cursive;\"> 如果是驗證資料 model, y_test, X_test, test_uid</span><br>"
   ],
   "metadata": {}
  },
  {
   "cell_type": "code",
   "execution_count": null,
   "source": [
    "from util import client_list\n",
    "client_list(model = xgb_model,y_test=y_test, X_test=X_test, test_uid=test_uid, name = 'test')"
   ],
   "outputs": [],
   "metadata": {}
  },
  {
   "cell_type": "markdown",
   "source": [
    "<span style=\"font-size:1cm; line-height: 2cm; font-family:cursive;\">八 、<br> 針對未知/新資料的預測資料實戰</span>\n"
   ],
   "metadata": {}
  },
  {
   "cell_type": "code",
   "execution_count": null,
   "source": [
    "'''\n",
    "前處理\n",
    "1. 讀取資料 (pd.read_csv)\n",
    "2. 保留UID ( newdata['UID'])\n",
    "3. 從原始資料中刪除UID (del newdata['UID'])\n",
    "4. 產出【顧客產品推薦名單】 (client_list() )\n",
    "'''"
   ],
   "outputs": [],
   "metadata": {}
  },
  {
   "cell_type": "markdown",
   "source": [
    "<span style=\"font-size:0.7cm;font-family:cursive;\"> 1. 讀取資料</span><br>"
   ],
   "metadata": {}
  },
  {
   "cell_type": "code",
   "execution_count": null,
   "source": [
    "newdata = pd.read_csv('contract_newdata.csv')"
   ],
   "outputs": [],
   "metadata": {}
  },
  {
   "cell_type": "markdown",
   "source": [
    "<span style=\"font-size:0.7cm;font-family:cursive;\"> 2. 保留UID</span><br>"
   ],
   "metadata": {}
  },
  {
   "cell_type": "code",
   "execution_count": null,
   "source": [
    "newdata_uid = newdata['UID']"
   ],
   "outputs": [],
   "metadata": {}
  },
  {
   "cell_type": "markdown",
   "source": [
    "<span style=\"font-size:0.7cm;font-family:cursive;\"> 3. 刪除UID</span><br>"
   ],
   "metadata": {}
  },
  {
   "cell_type": "code",
   "execution_count": null,
   "source": [
    "del newdata['UID']"
   ],
   "outputs": [],
   "metadata": {}
  },
  {
   "cell_type": "markdown",
   "source": [
    "<span style=\"font-size:0.7cm;font-family:cursive;\"> 4. 產出【顧客產品推薦名單】</span><br>"
   ],
   "metadata": {}
  },
  {
   "cell_type": "code",
   "execution_count": null,
   "source": [
    "c_list = client_list(model=xgb_model, y_test=None, X_test=newdata, test_uid=newdata_uid, name ='new')"
   ],
   "outputs": [],
   "metadata": {}
  },
  {
   "cell_type": "markdown",
   "source": [
    "<span style=\"font-size:0.7cm;font-family:cursive;\"> 問題 : 針對未知的預測資料實戰練習</span><br>"
   ],
   "metadata": {}
  },
  {
   "cell_type": "code",
   "execution_count": null,
   "source": [
    "'''\n",
    "目前有新進的資料\n",
    "U1.csv\n",
    "U2.csv\n",
    "\n",
    "如何判斷他們的購買機率？ 並產出個別檔案的【顧客產品推薦名單】\n",
    "'''"
   ],
   "outputs": [],
   "metadata": {}
  },
  {
   "cell_type": "markdown",
   "source": [
    "<span style=\"font-size:0.7cm;font-family:cursive;\"> 作答:</span><br>"
   ],
   "metadata": {}
  },
  {
   "cell_type": "code",
   "execution_count": null,
   "source": [],
   "outputs": [],
   "metadata": {}
  },
  {
   "cell_type": "markdown",
   "source": [
    "<span style=\"font-size:1cm; line-height: 2cm; font-family:cursive;\">九 、儲存model</span>\n"
   ],
   "metadata": {}
  },
  {
   "cell_type": "markdown",
   "source": [
    "<span style=\"font-size:0.7cm;font-family:cursive;\"> 1. 載入 pickle</span><br>"
   ],
   "metadata": {}
  },
  {
   "cell_type": "code",
   "execution_count": null,
   "source": [
    "import pickle"
   ],
   "outputs": [],
   "metadata": {}
  },
  {
   "cell_type": "markdown",
   "source": [
    "<span style=\"font-size:0.7cm;font-family:cursive;\"> 2. 儲存模型 pickle</span><br>"
   ],
   "metadata": {}
  },
  {
   "cell_type": "code",
   "execution_count": null,
   "source": [
    "pickle.dump(xgb_model, open(\"xgb_model.dat\", \"wb\"))  #wb : write binary (寫入成二元檔案)\n",
    "\n",
    "xgb_model\n",
    "del xgb_model\n",
    "# xgb_model"
   ],
   "outputs": [],
   "metadata": {}
  },
  {
   "cell_type": "markdown",
   "source": [
    "<span style=\"font-size:0.7cm;font-family:cursive;\"> 3. 載入模型，做精準名單 pickle</span><br>"
   ],
   "metadata": {}
  },
  {
   "cell_type": "code",
   "execution_count": null,
   "source": [
    "model_xgb = pickle.load(open(\"xgb_model.dat\", \"rb\"))\n",
    "\n",
    "c_list2 = client_list(model=model_xgb, y_test=None, X_test=newdata, test_uid=newdata_uid,name ='model')"
   ],
   "outputs": [],
   "metadata": {}
  },
  {
   "cell_type": "markdown",
   "source": [
    "<span style=\"font-size:1cm; line-height: 2cm; font-family:cursive;\">十 、<br>製作顧客產品推薦名單 function</span>"
   ],
   "metadata": {}
  },
  {
   "cell_type": "code",
   "execution_count": null,
   "source": [
    "'''\n",
    "input: data\n",
    "\n",
    "output: 顧客產品推薦名單\n",
    "'''\n",
    "from util import client_list_all"
   ],
   "outputs": [],
   "metadata": {}
  },
  {
   "cell_type": "markdown",
   "source": [
    "<span style=\"font-size:0.5cm;font-family:cursive;\"> 1. 顧客產品推薦名單 function</span><br>\n",
    "<span style=\"font-size:0.5cm;font-family:cursive;\"> 2. model_name: finder裡面有的model存儲檔案load進來</span><br>\n",
    "<span style=\"font-size:0.5cm;font-family:cursive;\"> 3. dataname: 新的資料</span><br>\n",
    "<span style=\"font-size:0.5cm;font-family:cursive;\"> 4. name: 存出來的檔案名稱\n",
    "</span><br>"
   ],
   "metadata": {}
  },
  {
   "cell_type": "code",
   "execution_count": null,
   "source": [
    "final_list = client_list_all(model_name=\"xgb_model.dat\",\n",
    "                             dataname='contract_newdata.csv',\n",
    "                             name='new2' )\n",
    "final_list"
   ],
   "outputs": [],
   "metadata": {}
  }
 ],
 "metadata": {
  "kernelspec": {
   "name": "python3",
   "display_name": "Python 3.7.8 64-bit"
  },
  "language_info": {
   "codemirror_mode": {
    "name": "ipython",
    "version": 3
   },
   "file_extension": ".py",
   "mimetype": "text/x-python",
   "name": "python",
   "nbconvert_exporter": "python",
   "pygments_lexer": "ipython3",
   "version": "3.7.8"
  },
  "interpreter": {
   "hash": "2929ee0822fdc46cd033fb3c17e1dd55d304741ca92a32ba3683308b5e1000ae"
  }
 },
 "nbformat": 4,
 "nbformat_minor": 2
}