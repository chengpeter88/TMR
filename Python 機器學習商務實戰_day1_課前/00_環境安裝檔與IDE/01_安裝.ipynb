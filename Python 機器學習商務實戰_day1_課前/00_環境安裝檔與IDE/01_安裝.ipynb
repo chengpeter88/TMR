{
 "cells": [
  {
   "cell_type": "code",
   "execution_count": 1,
   "metadata": {
    "tags": []
   },
   "outputs": [],
   "source": [
    "# Install a pip package in the current Jupyter kernel\n",
    "import sys"
   ]
  },
  {
   "cell_type": "code",
   "execution_count": 2,
   "metadata": {},
   "outputs": [
    {
     "name": "stdout",
     "output_type": "stream",
     "text": [
      "Collecting xgboost==0.90\n",
      "  Downloading xgboost-0.90.tar.gz (676 kB)\n",
      "\u001b[2K     \u001b[90m━━━━━━━━━━━━━━━━━━━━━━━━━━━━━━━━━━━━━━━\u001b[0m \u001b[32m676.7/676.7 kB\u001b[0m \u001b[31m2.6 MB/s\u001b[0m eta \u001b[36m0:00:00\u001b[0m00:01\u001b[0m00:01\u001b[0m\n",
      "\u001b[?25h  Preparing metadata (setup.py) ... \u001b[?25ldone\n",
      "\u001b[?25hRequirement already satisfied: numpy in /Users/heng/anaconda3/lib/python3.11/site-packages (from xgboost==0.90) (1.24.3)\n",
      "Requirement already satisfied: scipy in /Users/heng/anaconda3/lib/python3.11/site-packages (from xgboost==0.90) (1.11.4)\n",
      "Building wheels for collected packages: xgboost\n",
      "  Building wheel for xgboost (setup.py) ... \u001b[?25ldone\n",
      "\u001b[?25h  Created wheel for xgboost: filename=xgboost-0.90-cp311-cp311-macosx_11_0_arm64.whl size=1583796 sha256=cb9d49eb7b97a48b25d930330ca37dcbf37c7a54e4096e85199bce92bbb62821\n",
      "  Stored in directory: /Users/heng/Library/Caches/pip/wheels/ac/20/99/49aba43d07f626830c31708cee4e8a60101374872017ccad7b\n",
      "Successfully built xgboost\n",
      "Installing collected packages: xgboost\n",
      "Successfully installed xgboost-0.90\n"
     ]
    }
   ],
   "source": [
    "!{sys.executable} -m pip install xgboost==0.90"
   ]
  },
  {
   "cell_type": "code",
   "execution_count": 3,
   "metadata": {
    "tags": []
   },
   "outputs": [
    {
     "name": "stdout",
     "output_type": "stream",
     "text": [
      "Requirement already satisfied: nltk in /Users/heng/anaconda3/lib/python3.11/site-packages (3.8.1)\n",
      "Requirement already satisfied: click in /Users/heng/anaconda3/lib/python3.11/site-packages (from nltk) (8.1.7)\n",
      "Requirement already satisfied: joblib in /Users/heng/anaconda3/lib/python3.11/site-packages (from nltk) (1.2.0)\n",
      "Requirement already satisfied: regex>=2021.8.3 in /Users/heng/anaconda3/lib/python3.11/site-packages (from nltk) (2023.10.3)\n",
      "Requirement already satisfied: tqdm in /Users/heng/anaconda3/lib/python3.11/site-packages (from nltk) (4.65.0)\n"
     ]
    }
   ],
   "source": [
    "!{sys.executable} -m pip install nltk"
   ]
  },
  {
   "cell_type": "code",
   "execution_count": 5,
   "metadata": {
    "tags": []
   },
   "outputs": [
    {
     "name": "stdout",
     "output_type": "stream",
     "text": [
      "Collecting numpy==1.19.3\n",
      "  Using cached numpy-1.19.3-cp39-cp39-win_amd64.whl (13.3 MB)\n",
      "Installing collected packages: numpy\n",
      "  Attempting uninstall: numpy\n",
      "    Found existing installation: numpy 1.20.3\n",
      "    Uninstalling numpy-1.20.3:\n",
      "      Successfully uninstalled numpy-1.20.3\n"
     ]
    },
    {
     "name": "stderr",
     "output_type": "stream",
     "text": [
      "ERROR: Could not install packages due to an OSError: [WinError 5] Access is denied: 'C:\\\\Users\\\\howar\\\\anaconda3\\\\envs\\\\spyder-env\\\\Lib\\\\site-packages\\\\~umpy\\\\core\\\\_multiarray_tests.cp39-win_amd64.pyd'\n",
      "Consider using the `--user` option or check the permissions.\n",
      "\n"
     ]
    }
   ],
   "source": [
    "!{sys.executable} -m pip install numpy==1.19.3"
   ]
  },
  {
   "cell_type": "code",
   "execution_count": 4,
   "metadata": {
    "tags": []
   },
   "outputs": [
    {
     "name": "stdout",
     "output_type": "stream",
     "text": [
      "Collecting jieba==0.42.1\n",
      "  Downloading jieba-0.42.1.tar.gz (19.2 MB)\n",
      "\u001b[2K     \u001b[90m━━━━━━━━━━━━━━━━━━━━━━━━━━━━━━━━━━━━━━━━\u001b[0m \u001b[32m19.2/19.2 MB\u001b[0m \u001b[31m1.2 MB/s\u001b[0m eta \u001b[36m0:00:00\u001b[0m00:01\u001b[0m00:01\u001b[0m\n",
      "\u001b[?25h  Preparing metadata (setup.py) ... \u001b[?25ldone\n",
      "\u001b[?25hBuilding wheels for collected packages: jieba\n",
      "  Building wheel for jieba (setup.py) ... \u001b[?25ldone\n",
      "\u001b[?25h  Created wheel for jieba: filename=jieba-0.42.1-py3-none-any.whl size=19314459 sha256=556b3a4d58f82273c778c9996e0ad25dab8d191c655ce65d17b83d0f9cdc5bfb\n",
      "  Stored in directory: /Users/heng/Library/Caches/pip/wheels/ac/60/cf/538a1f183409caf1fc136b5d2c2dee329001ef6da2c5084bef\n",
      "Successfully built jieba\n",
      "Installing collected packages: jieba\n",
      "Successfully installed jieba-0.42.1\n"
     ]
    }
   ],
   "source": [
    "!{sys.executable} -m pip install jieba==0.42.1"
   ]
  },
  {
   "cell_type": "code",
   "execution_count": 5,
   "metadata": {
    "tags": []
   },
   "outputs": [
    {
     "name": "stdout",
     "output_type": "stream",
     "text": [
      "Requirement already satisfied: lxml in /Users/heng/anaconda3/lib/python3.11/site-packages (4.9.3)\n"
     ]
    }
   ],
   "source": [
    "!{sys.executable} -m pip install lxml"
   ]
  },
  {
   "cell_type": "code",
   "execution_count": 6,
   "metadata": {
    "tags": []
   },
   "outputs": [
    {
     "name": "stdout",
     "output_type": "stream",
     "text": [
      "Requirement already satisfied: nbformat in /Users/heng/anaconda3/lib/python3.11/site-packages (5.9.2)\n",
      "Requirement already satisfied: fastjsonschema in /Users/heng/anaconda3/lib/python3.11/site-packages (from nbformat) (2.16.2)\n",
      "Requirement already satisfied: jsonschema>=2.6 in /Users/heng/anaconda3/lib/python3.11/site-packages (from nbformat) (4.19.2)\n",
      "Requirement already satisfied: jupyter-core in /Users/heng/anaconda3/lib/python3.11/site-packages (from nbformat) (5.5.0)\n",
      "Requirement already satisfied: traitlets>=5.1 in /Users/heng/anaconda3/lib/python3.11/site-packages (from nbformat) (5.7.1)\n",
      "Requirement already satisfied: attrs>=22.2.0 in /Users/heng/anaconda3/lib/python3.11/site-packages (from jsonschema>=2.6->nbformat) (23.1.0)\n",
      "Requirement already satisfied: jsonschema-specifications>=2023.03.6 in /Users/heng/anaconda3/lib/python3.11/site-packages (from jsonschema>=2.6->nbformat) (2023.7.1)\n",
      "Requirement already satisfied: referencing>=0.28.4 in /Users/heng/anaconda3/lib/python3.11/site-packages (from jsonschema>=2.6->nbformat) (0.30.2)\n",
      "Requirement already satisfied: rpds-py>=0.7.1 in /Users/heng/anaconda3/lib/python3.11/site-packages (from jsonschema>=2.6->nbformat) (0.10.6)\n",
      "Requirement already satisfied: platformdirs>=2.5 in /Users/heng/anaconda3/lib/python3.11/site-packages (from jupyter-core->nbformat) (3.10.0)\n"
     ]
    }
   ],
   "source": [
    "!{sys.executable} -m pip install nbformat"
   ]
  },
  {
   "cell_type": "code",
   "execution_count": 12,
   "metadata": {
    "tags": []
   },
   "outputs": [
    {
     "name": "stdout",
     "output_type": "stream",
     "text": [
      "Requirement already satisfied: plotly in /Users/heng/anaconda3/lib/python3.11/site-packages (5.9.0)\n",
      "Requirement already satisfied: tenacity>=6.2.0 in /Users/heng/anaconda3/lib/python3.11/site-packages (from plotly) (8.2.2)\n"
     ]
    }
   ],
   "source": [
    "!{sys.executable} -m pip install plotly"
   ]
  },
  {
   "cell_type": "code",
   "execution_count": null,
   "metadata": {
    "tags": []
   },
   "outputs": [],
   "source": [
    "!{sys.executable} -m pip install scikit-learn==0.22.1"
   ]
  },
  {
   "cell_type": "code",
   "execution_count": 7,
   "metadata": {
    "tags": []
   },
   "outputs": [
    {
     "name": "stdout",
     "output_type": "stream",
     "text": [
      "Collecting lifelines==0.25.4\n",
      "  Obtaining dependency information for lifelines==0.25.4 from https://files.pythonhosted.org/packages/8a/ac/2053e284c83b3e4ae35751a9f755bfc3739373099fe346dec323b9177659/lifelines-0.25.4-py3-none-any.whl.metadata\n",
      "  Downloading lifelines-0.25.4-py3-none-any.whl.metadata (4.1 kB)\n",
      "Requirement already satisfied: numpy>=1.14.0 in /Users/heng/anaconda3/lib/python3.11/site-packages (from lifelines==0.25.4) (1.24.3)\n",
      "Requirement already satisfied: scipy>=1.2.0 in /Users/heng/anaconda3/lib/python3.11/site-packages (from lifelines==0.25.4) (1.11.4)\n",
      "Requirement already satisfied: pandas>=0.23.0 in /Users/heng/anaconda3/lib/python3.11/site-packages (from lifelines==0.25.4) (2.1.4)\n",
      "Requirement already satisfied: matplotlib>=3.0 in /Users/heng/anaconda3/lib/python3.11/site-packages (from lifelines==0.25.4) (3.8.0)\n",
      "Collecting autograd>=1.3 (from lifelines==0.25.4)\n",
      "  Obtaining dependency information for autograd>=1.3 from https://files.pythonhosted.org/packages/81/70/d5c7c2a458b8be96495c8b1634c2155beab58cbe864b7a9a5c06c2e52520/autograd-1.6.2-py3-none-any.whl.metadata\n",
      "  Downloading autograd-1.6.2-py3-none-any.whl.metadata (706 bytes)\n",
      "Collecting autograd-gamma>=0.3 (from lifelines==0.25.4)\n",
      "  Downloading autograd-gamma-0.5.0.tar.gz (4.0 kB)\n",
      "  Preparing metadata (setup.py) ... \u001b[?25ldone\n",
      "\u001b[?25hRequirement already satisfied: patsy>=0.5.0 in /Users/heng/anaconda3/lib/python3.11/site-packages (from lifelines==0.25.4) (0.5.3)\n",
      "Requirement already satisfied: future>=0.15.2 in /Users/heng/anaconda3/lib/python3.11/site-packages (from autograd>=1.3->lifelines==0.25.4) (0.18.3)\n",
      "Requirement already satisfied: contourpy>=1.0.1 in /Users/heng/anaconda3/lib/python3.11/site-packages (from matplotlib>=3.0->lifelines==0.25.4) (1.2.0)\n",
      "Requirement already satisfied: cycler>=0.10 in /Users/heng/anaconda3/lib/python3.11/site-packages (from matplotlib>=3.0->lifelines==0.25.4) (0.11.0)\n",
      "Requirement already satisfied: fonttools>=4.22.0 in /Users/heng/anaconda3/lib/python3.11/site-packages (from matplotlib>=3.0->lifelines==0.25.4) (4.25.0)\n",
      "Requirement already satisfied: kiwisolver>=1.0.1 in /Users/heng/anaconda3/lib/python3.11/site-packages (from matplotlib>=3.0->lifelines==0.25.4) (1.4.4)\n",
      "Requirement already satisfied: packaging>=20.0 in /Users/heng/anaconda3/lib/python3.11/site-packages (from matplotlib>=3.0->lifelines==0.25.4) (23.1)\n",
      "Requirement already satisfied: pillow>=6.2.0 in /Users/heng/anaconda3/lib/python3.11/site-packages (from matplotlib>=3.0->lifelines==0.25.4) (10.0.1)\n",
      "Requirement already satisfied: pyparsing>=2.3.1 in /Users/heng/anaconda3/lib/python3.11/site-packages (from matplotlib>=3.0->lifelines==0.25.4) (3.0.9)\n",
      "Requirement already satisfied: python-dateutil>=2.7 in /Users/heng/anaconda3/lib/python3.11/site-packages (from matplotlib>=3.0->lifelines==0.25.4) (2.8.2)\n",
      "Requirement already satisfied: pytz>=2020.1 in /Users/heng/anaconda3/lib/python3.11/site-packages (from pandas>=0.23.0->lifelines==0.25.4) (2023.3.post1)\n",
      "Requirement already satisfied: tzdata>=2022.1 in /Users/heng/anaconda3/lib/python3.11/site-packages (from pandas>=0.23.0->lifelines==0.25.4) (2023.3)\n",
      "Requirement already satisfied: six in /Users/heng/anaconda3/lib/python3.11/site-packages (from patsy>=0.5.0->lifelines==0.25.4) (1.16.0)\n",
      "Downloading lifelines-0.25.4-py3-none-any.whl (345 kB)\n",
      "\u001b[2K   \u001b[90m━━━━━━━━━━━━━━━━━━━━━━━━━━━━━━━━━━━━━━━━\u001b[0m \u001b[32m345.6/345.6 kB\u001b[0m \u001b[31m1.8 MB/s\u001b[0m eta \u001b[36m0:00:00\u001b[0ma \u001b[36m0:00:01\u001b[0m\n",
      "\u001b[?25hDownloading autograd-1.6.2-py3-none-any.whl (49 kB)\n",
      "\u001b[2K   \u001b[90m━━━━━━━━━━━━━━━━━━━━━━━━━━━━━━━━━━━━━━━━\u001b[0m \u001b[32m49.3/49.3 kB\u001b[0m \u001b[31m3.3 MB/s\u001b[0m eta \u001b[36m0:00:00\u001b[0m\n",
      "\u001b[?25hBuilding wheels for collected packages: autograd-gamma\n",
      "  Building wheel for autograd-gamma (setup.py) ... \u001b[?25ldone\n",
      "\u001b[?25h  Created wheel for autograd-gamma: filename=autograd_gamma-0.5.0-py3-none-any.whl size=4031 sha256=9ea1a599d63a0f62a7441ff4b33ccc80ed490e33aa3f69a203d6df14d49081c5\n",
      "  Stored in directory: /Users/heng/Library/Caches/pip/wheels/8b/67/f4/2caaae2146198dcb824f31a303833b07b14a5ec863fb3acd7b\n",
      "Successfully built autograd-gamma\n",
      "Installing collected packages: autograd, autograd-gamma, lifelines\n",
      "Successfully installed autograd-1.6.2 autograd-gamma-0.5.0 lifelines-0.25.4\n"
     ]
    }
   ],
   "source": [
    "!{sys.executable} -m pip install lifelines==0.25.4"
   ]
  },
  {
   "cell_type": "code",
   "execution_count": null,
   "metadata": {
    "tags": []
   },
   "outputs": [],
   "source": [
    "!{sys.executable} -m pip install openpyxl"
   ]
  },
  {
   "cell_type": "code",
   "execution_count": 8,
   "metadata": {},
   "outputs": [
    {
     "name": "stdout",
     "output_type": "stream",
     "text": [
      "Collecting imbalanced-learn==0.4.0\n",
      "  Obtaining dependency information for imbalanced-learn==0.4.0 from https://files.pythonhosted.org/packages/42/73/07459186288bdfbae30c50eca4b54e16473a1e0ceee5f9c79480d6dc9b50/imbalanced_learn-0.4.0-py3-none-any.whl.metadata\n",
      "  Downloading imbalanced_learn-0.4.0-py3-none-any.whl.metadata (12 kB)\n",
      "Requirement already satisfied: numpy>=1.8.2 in /Users/heng/anaconda3/lib/python3.11/site-packages (from imbalanced-learn==0.4.0) (1.24.3)\n",
      "Requirement already satisfied: scipy>=0.13.3 in /Users/heng/anaconda3/lib/python3.11/site-packages (from imbalanced-learn==0.4.0) (1.11.4)\n",
      "Requirement already satisfied: scikit-learn>=0.20 in /Users/heng/anaconda3/lib/python3.11/site-packages (from imbalanced-learn==0.4.0) (1.3.0)\n",
      "Requirement already satisfied: joblib>=1.1.1 in /Users/heng/anaconda3/lib/python3.11/site-packages (from scikit-learn>=0.20->imbalanced-learn==0.4.0) (1.2.0)\n",
      "Requirement already satisfied: threadpoolctl>=2.0.0 in /Users/heng/anaconda3/lib/python3.11/site-packages (from scikit-learn>=0.20->imbalanced-learn==0.4.0) (2.2.0)\n",
      "Downloading imbalanced_learn-0.4.0-py3-none-any.whl (165 kB)\n",
      "\u001b[2K   \u001b[90m━━━━━━━━━━━━━━━━━━━━━━━━━━━━━━━━━━━━━━━\u001b[0m \u001b[32m165.2/165.2 kB\u001b[0m \u001b[31m396.2 kB/s\u001b[0m eta \u001b[36m0:00:00\u001b[0ma \u001b[36m0:00:01\u001b[0m\n",
      "\u001b[?25hInstalling collected packages: imbalanced-learn\n",
      "  Attempting uninstall: imbalanced-learn\n",
      "    Found existing installation: imbalanced-learn 0.10.1\n",
      "    Uninstalling imbalanced-learn-0.10.1:\n",
      "      Successfully uninstalled imbalanced-learn-0.10.1\n",
      "Successfully installed imbalanced-learn-0.4.0\n"
     ]
    }
   ],
   "source": [
    "!{sys.executable} -m pip install imbalanced-learn==0.4.0"
   ]
  },
  {
   "cell_type": "code",
   "execution_count": 9,
   "metadata": {},
   "outputs": [
    {
     "name": "stdout",
     "output_type": "stream",
     "text": [
      "Collecting lime==0.2.0.1\n",
      "  Downloading lime-0.2.0.1.tar.gz (275 kB)\n",
      "\u001b[2K     \u001b[90m━━━━━━━━━━━━━━━━━━━━━━━━━━━━━━━━━━━━━━━\u001b[0m \u001b[32m275.7/275.7 kB\u001b[0m \u001b[31m1.4 MB/s\u001b[0m eta \u001b[36m0:00:00\u001b[0ma \u001b[36m0:00:01\u001b[0m\n",
      "\u001b[?25h  Preparing metadata (setup.py) ... \u001b[?25ldone\n",
      "\u001b[?25hRequirement already satisfied: matplotlib in /Users/heng/anaconda3/lib/python3.11/site-packages (from lime==0.2.0.1) (3.8.0)\n",
      "Requirement already satisfied: numpy in /Users/heng/anaconda3/lib/python3.11/site-packages (from lime==0.2.0.1) (1.24.3)\n",
      "Requirement already satisfied: scipy in /Users/heng/anaconda3/lib/python3.11/site-packages (from lime==0.2.0.1) (1.11.4)\n",
      "Requirement already satisfied: tqdm in /Users/heng/anaconda3/lib/python3.11/site-packages (from lime==0.2.0.1) (4.65.0)\n",
      "Requirement already satisfied: scikit-learn>=0.18 in /Users/heng/anaconda3/lib/python3.11/site-packages (from lime==0.2.0.1) (1.3.0)\n",
      "Requirement already satisfied: scikit-image>=0.12 in /Users/heng/anaconda3/lib/python3.11/site-packages (from lime==0.2.0.1) (0.20.0)\n",
      "Requirement already satisfied: networkx>=2.8 in /Users/heng/anaconda3/lib/python3.11/site-packages (from scikit-image>=0.12->lime==0.2.0.1) (3.1)\n",
      "Requirement already satisfied: pillow>=9.0.1 in /Users/heng/anaconda3/lib/python3.11/site-packages (from scikit-image>=0.12->lime==0.2.0.1) (10.0.1)\n",
      "Requirement already satisfied: imageio>=2.4.1 in /Users/heng/anaconda3/lib/python3.11/site-packages (from scikit-image>=0.12->lime==0.2.0.1) (2.31.1)\n",
      "Requirement already satisfied: tifffile>=2019.7.26 in /Users/heng/anaconda3/lib/python3.11/site-packages (from scikit-image>=0.12->lime==0.2.0.1) (2023.4.12)\n",
      "Requirement already satisfied: PyWavelets>=1.1.1 in /Users/heng/anaconda3/lib/python3.11/site-packages (from scikit-image>=0.12->lime==0.2.0.1) (1.4.1)\n",
      "Requirement already satisfied: packaging>=20.0 in /Users/heng/anaconda3/lib/python3.11/site-packages (from scikit-image>=0.12->lime==0.2.0.1) (23.1)\n",
      "Requirement already satisfied: lazy_loader>=0.1 in /Users/heng/anaconda3/lib/python3.11/site-packages (from scikit-image>=0.12->lime==0.2.0.1) (0.2)\n",
      "Requirement already satisfied: joblib>=1.1.1 in /Users/heng/anaconda3/lib/python3.11/site-packages (from scikit-learn>=0.18->lime==0.2.0.1) (1.2.0)\n",
      "Requirement already satisfied: threadpoolctl>=2.0.0 in /Users/heng/anaconda3/lib/python3.11/site-packages (from scikit-learn>=0.18->lime==0.2.0.1) (2.2.0)\n",
      "Requirement already satisfied: contourpy>=1.0.1 in /Users/heng/anaconda3/lib/python3.11/site-packages (from matplotlib->lime==0.2.0.1) (1.2.0)\n",
      "Requirement already satisfied: cycler>=0.10 in /Users/heng/anaconda3/lib/python3.11/site-packages (from matplotlib->lime==0.2.0.1) (0.11.0)\n",
      "Requirement already satisfied: fonttools>=4.22.0 in /Users/heng/anaconda3/lib/python3.11/site-packages (from matplotlib->lime==0.2.0.1) (4.25.0)\n",
      "Requirement already satisfied: kiwisolver>=1.0.1 in /Users/heng/anaconda3/lib/python3.11/site-packages (from matplotlib->lime==0.2.0.1) (1.4.4)\n",
      "Requirement already satisfied: pyparsing>=2.3.1 in /Users/heng/anaconda3/lib/python3.11/site-packages (from matplotlib->lime==0.2.0.1) (3.0.9)\n",
      "Requirement already satisfied: python-dateutil>=2.7 in /Users/heng/anaconda3/lib/python3.11/site-packages (from matplotlib->lime==0.2.0.1) (2.8.2)\n",
      "Requirement already satisfied: six>=1.5 in /Users/heng/anaconda3/lib/python3.11/site-packages (from python-dateutil>=2.7->matplotlib->lime==0.2.0.1) (1.16.0)\n",
      "Building wheels for collected packages: lime\n",
      "  Building wheel for lime (setup.py) ... \u001b[?25ldone\n",
      "\u001b[?25h  Created wheel for lime: filename=lime-0.2.0.1-py3-none-any.whl size=283835 sha256=fffffba635a153a6980943bf13a08c8945e312bd4c8e4bd2da4ee02cf819ceb5\n",
      "  Stored in directory: /Users/heng/Library/Caches/pip/wheels/85/fa/a3/9c2d44c9f3cd77cf4e533b58900b2bf4487f2a17e8ec212a3d\n",
      "Successfully built lime\n",
      "Installing collected packages: lime\n",
      "Successfully installed lime-0.2.0.1\n"
     ]
    }
   ],
   "source": [
    "!{sys.executable} -m pip install --user  lime==0.2.0.1"
   ]
  },
  {
   "cell_type": "code",
   "execution_count": 10,
   "metadata": {},
   "outputs": [
    {
     "name": "stdout",
     "output_type": "stream",
     "text": [
      "Collecting graphviz==0.14.1\n",
      "  Obtaining dependency information for graphviz==0.14.1 from https://files.pythonhosted.org/packages/62/dc/9dd6a6b9b8977248e165e075b109eea6e8eac71faa28ca378c3d98e54fbe/graphviz-0.14.1-py2.py3-none-any.whl.metadata\n",
      "  Downloading graphviz-0.14.1-py2.py3-none-any.whl.metadata (6.7 kB)\n",
      "Downloading graphviz-0.14.1-py2.py3-none-any.whl (18 kB)\n",
      "Installing collected packages: graphviz\n",
      "Successfully installed graphviz-0.14.1\n"
     ]
    }
   ],
   "source": [
    "!{sys.executable} -m pip install graphviz==0.14.1"
   ]
  },
  {
   "cell_type": "code",
   "execution_count": 11,
   "metadata": {},
   "outputs": [
    {
     "name": "stdout",
     "output_type": "stream",
     "text": [
      "Collecting pillow==6.2.0\n",
      "  Downloading Pillow-6.2.0.tar.gz (37.4 MB)\n",
      "\u001b[2K     \u001b[90m━━━━━━━━━━━━━━━━━━━━━━━━━━━━━━━━━━━━━━━━\u001b[0m \u001b[32m37.4/37.4 MB\u001b[0m \u001b[31m1.2 MB/s\u001b[0m eta \u001b[36m0:00:00\u001b[0m00:01\u001b[0mm00:02\u001b[0m\n",
      "\u001b[?25h  Preparing metadata (setup.py) ... \u001b[?25ldone\n",
      "\u001b[?25hBuilding wheels for collected packages: pillow\n",
      "  Building wheel for pillow (setup.py) ... \u001b[?25ldone\n",
      "\u001b[?25h  Created wheel for pillow: filename=Pillow-6.2.0-cp311-cp311-macosx_11_0_arm64.whl size=485085 sha256=04083568bce1f372d49914d656c1c3399ad33b81ad7e639aace6315faeada57d\n",
      "  Stored in directory: /Users/heng/Library/Caches/pip/wheels/56/bd/f1/cdd448cfdf2309cc68eaf3c62fcebabe2dca5570fd72f026d1\n",
      "Successfully built pillow\n",
      "Installing collected packages: pillow\n",
      "  Attempting uninstall: pillow\n",
      "    Found existing installation: Pillow 10.0.1\n",
      "    Uninstalling Pillow-10.0.1:\n",
      "      Successfully uninstalled Pillow-10.0.1\n",
      "\u001b[31mERROR: pip's dependency resolver does not currently take into account all the packages that are installed. This behaviour is the source of the following dependency conflicts.\n",
      "bokeh 3.2.1 requires pillow>=7.1.0, but you have pillow 6.2.0 which is incompatible.\n",
      "scikit-image 0.20.0 requires pillow>=9.0.1, but you have pillow 6.2.0 which is incompatible.\n",
      "imageio 2.31.1 requires pillow>=8.3.2, but you have pillow 6.2.0 which is incompatible.\u001b[0m\u001b[31m\n",
      "\u001b[0mSuccessfully installed pillow-6.2.0\n"
     ]
    }
   ],
   "source": [
    "!{sys.executable} -m pip install pillow==6.2.0"
   ]
  },
  {
   "cell_type": "code",
   "execution_count": null,
   "metadata": {},
   "outputs": [],
   "source": [
    "!{sys.executable} -m pip install seaborn"
   ]
  },
  {
   "cell_type": "code",
   "execution_count": null,
   "metadata": {},
   "outputs": [],
   "source": [
    "!{sys.executable} -m pip install pandas"
   ]
  },
  {
   "cell_type": "code",
   "execution_count": null,
   "metadata": {},
   "outputs": [],
   "source": []
  }
 ],
 "metadata": {
  "interpreter": {
   "hash": "2929ee0822fdc46cd033fb3c17e1dd55d304741ca92a32ba3683308b5e1000ae"
  },
  "kernelspec": {
   "display_name": "Python 3 (Spyder)",
   "language": "python3",
   "name": "python3"
  },
  "language_info": {
   "codemirror_mode": {
    "name": "ipython",
    "version": 3
   },
   "file_extension": ".py",
   "mimetype": "text/x-python",
   "name": "python",
   "nbconvert_exporter": "python",
   "pygments_lexer": "ipython3",
   "version": "3.11.5"
  }
 },
 "nbformat": 4,
 "nbformat_minor": 4
}
