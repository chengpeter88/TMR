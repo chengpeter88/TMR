{
 "cells": [
  {
   "cell_type": "code",
   "execution_count": null,
   "metadata": {},
   "outputs": [
    {
     "ename": "",
     "evalue": "",
     "output_type": "error",
     "traceback": [
      "\u001b[1;31m無法啟動 Kernel。 \n",
      "\u001b[1;31mTraceback (most recent call last):\n",
      "\u001b[1;31m  File \"/Users/heng/anaconda3/envs/tmr/lib/python3.8/runpy.py\", line 194, in _run_module_as_main\n",
      "\u001b[1;31m    return _run_code(code, main_globals, None,\n",
      "\u001b[1;31m  File \"/Users/heng/anaconda3/envs/tmr/lib/python3.8/runpy.py\", line 87, in _run_code\n",
      "\u001b[1;31m    exec(code, run_globals)\n",
      "\u001b[1;31m  File \"/Users/heng/anaconda3/envs/tmr/lib/python3.8/site-packages/ipykernel_launcher.py\", line 15, in <module>\n",
      "\u001b[1;31m    from ipykernel import kernelapp as app\n",
      "\u001b[1;31m  File \"/Users/heng/anaconda3/envs/tmr/lib/python3.8/site-packages/ipykernel/kernelapp.py\", line 21, in <module>\n",
      "\u001b[1;31m    from IPython.core.application import (  # type:ignore[attr-defined]\n",
      "\u001b[1;31m  File \"/Users/heng/anaconda3/envs/tmr/lib/python3.8/site-packages/IPython/__init__.py\", line 53, in <module>\n",
      "\u001b[1;31m    from .terminal.embed import embed\n",
      "\u001b[1;31m  File \"/Users/heng/anaconda3/envs/tmr/lib/python3.8/site-packages/IPython/terminal/embed.py\", line 15, in <module>\n",
      "\u001b[1;31m    from IPython.core.interactiveshell import DummyMod, InteractiveShell\n",
      "\u001b[1;31m  File \"/Users/heng/anaconda3/envs/tmr/lib/python3.8/site-packages/IPython/core/interactiveshell.py\", line 73, in <module>\n",
      "\u001b[1;31m    from IPython.core.history import HistoryManager\n",
      "\u001b[1;31m  File \"/Users/heng/anaconda3/envs/tmr/lib/python3.8/site-packages/IPython/core/history.py\", line 11, in <module>\n",
      "\u001b[1;31m    import sqlite3\n",
      "\u001b[1;31m  File \"/Users/heng/anaconda3/envs/tmr/lib/python3.8/sqlite3/__init__.py\", line 23, in <module>\n",
      "\u001b[1;31m    from sqlite3.dbapi2 import *\n",
      "\u001b[1;31m  File \"/Users/heng/anaconda3/envs/tmr/lib/python3.8/sqlite3/dbapi2.py\", line 27, in <module>\n",
      "\u001b[1;31m    from _sqlite3 import *\n",
      "\u001b[1;31mImportError: dlopen(/Users/heng/anaconda3/envs/tmr/lib/python3.8/lib-dynload/_sqlite3.cpython-38-darwin.so, 2): Symbol not found: _sqlite3_enable_load_extension\n",
      "\u001b[1;31m  Referenced from: /Users/heng/anaconda3/envs/tmr/lib/python3.8/lib-dynload/_sqlite3.cpython-38-darwin.so\n",
      "\u001b[1;31m  Expected in: /usr/lib/libsqlite3.dylib\n",
      "\u001b[1;31m in /Users/heng/anaconda3/envs/tmr/lib/python3.8/lib-dynload/_sqlite3.cpython-38-darwin.so. \n",
      "\u001b[1;31m如需詳細資料，請檢視 Jupyter <a href='command:jupyter.viewOutput'>記錄</a>。"
     ]
    }
   ],
   "source": [
    "! pip install gensim ==3.6.0"
   ]
  },
  {
   "cell_type": "code",
   "execution_count": null,
   "metadata": {},
   "outputs": [],
   "source": []
  }
 ],
 "metadata": {
  "kernelspec": {
   "display_name": "tmr",
   "language": "python",
   "name": "python3"
  },
  "language_info": {
   "name": "python",
   "version": "3.8.19"
  }
 },
 "nbformat": 4,
 "nbformat_minor": 2
}
